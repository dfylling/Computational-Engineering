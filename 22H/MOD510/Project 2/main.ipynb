{
 "cells": [
  {
   "cell_type": "markdown",
   "metadata": {},
   "source": [
    "# MOD510 - Modeling and Computational Engineering\n",
    "## Group 4\n",
    "### Group members:\n",
    "**Andreas Nonslid Håvardsen**\n",
    "\n",
    "**Daniel Fylling**\n",
    "\n",
    "## Project 2 - Can you hear the size of a reservoir?\n",
    "\n",
    "### Abstract \n",
    "\n",
    "In this project there the first excercise is to find steady-state solutions to linear equations, which extends to the secound exercise when finding time-dependent solutions. Here classes were made to initialize the linear equations and then to solve them. This proved to be a quite easy to use implementation, and was also used to simply generate some equations for exercise 3. In exercise 3 the solvers and %timeit functions work as intended, and the results were mostly as expected where the dense solver is worse than the sparse and using the Thomas algorithm given in the appendix of the project papers, given a tridiagonal matrix of order higher than 3. The Thomas algorithm also outperformed the dense solution even at a order of 3. Matching the model to well test data was done experimentally and worked out to be quite accurate. Overall most exercises seems to be completed successfully. \n",
    "\n",
    "### Introduction\n",
    "\n",
    "In this project linear equations as models, and methods to analyze and use them are examined. In particular the solutions to the linear models, and difference to analytical solutions to find the error is examined in great detail. Different implementations are used, and compared.\n",
    "\n",
    "This report goes through each exercise in order, and starts with the steady-state solutions to linear equations. It then moves on to the time-dependent solutions and analyzes the error of both types of solutions. Next, it goes on to the linear solvers and implementation strategies, and lastly shows a model matched to fit given datapoints. \n",
    "\n",
    "Carbon capture and storage will be important for sustaining a stable global climate. One method of CCS involves pumping CO2 into the ground. For the CO2 to stay in the ground we need to know that we pump it into a more or less closed reservoir.\n",
    "Defining if a reservoir is bounded and how big it is can be done by test producing the reservoir, as has been done for the well presented in this project. In order to make optimal decisions on how to utilize our resources predicting such quantities is instrumental. Sound is a pressure vibration, and in this project we will be \"listening\" to the change of pressure underground, over time in order to determine the size of a reservoir.\n",
    "\n",
    "[Start project in next cell, first and last cell is purely for mandatory document work]:<>"
   ]
  },
  {
   "cell_type": "markdown",
   "metadata": {},
   "source": [
    "### Exercise 1\n",
    "#### Part 1"
   ]
  },
  {
   "cell_type": "markdown",
   "metadata": {},
   "source": [
    "\n",
    "<img src=\"fig/part1.png\" width=350><p style=\"font-size: 0.9em\"><i></i></p>\n",
    "\n",
    "\n",
    "Integrating (16) twice will give the general solution to the pressure equation:\n",
    "\n",
    "$$\n",
    "\\begin{equation}\n",
    "p(y)=yC+C'\n",
    "\\tag{1}\n",
    "\\end{equation}\n",
    "$$\n",
    "\n",
    "Boundary condition (17) is used to identify C:\n",
    "\n",
    "$$\n",
    "\\begin{equation}\n",
    "\\frac{dp}{dy}=\\alpha=C\n",
    "\\tag{2}\n",
    "\\end{equation}\n",
    "$$\n",
    "\n",
    "Boundary condition (18) is used to identify C':\n",
    "\n",
    "$$\n",
    "\\begin{equation}\n",
    "p(y_e)=y_e\\alpha+C'=p_{init}=>C'=p_{init}-y_e\\alpha\n",
    "\\tag{3}\n",
    "\\end{equation}\n",
    "$$\n",
    "\n",
    "Inserting terms for C and C' from (2) and (3) into (1) and rearranging gives:\n",
    "\n",
    "$$\n",
    "\\begin{equation}\n",
    "p(y)=p_{init}+\\alpha(y-y_e)\n",
    "\\tag{4}\n",
    "\\end{equation}\n",
    "$$\n"
   ]
  },
  {
   "cell_type": "markdown",
   "metadata": {},
   "source": [
    "#### Part 2"
   ]
  },
  {
   "cell_type": "markdown",
   "metadata": {},
   "source": [
    "While writing in short hand notation and leaving out the truncation error  term (for now), the general finite difference equation is:\n",
    "\n",
    "$$\n",
    "\\begin{equation}\n",
    "\\frac{d^2p}{dy^2}=\\frac{P_{i+1}+P_{i-1}-2P_i}{\\Delta y^2}\n",
    "\\tag{5}\n",
    "\\end{equation}\n",
    "$$\n",
    "\n",
    "After combining with (16) we get:\n",
    "\n",
    "$$\n",
    "\\begin{equation}\n",
    "P_{i+1}+P_{i-1}-2P_i=0\n",
    "\\tag{6}\n",
    "\\end{equation}\n",
    "$$\n",
    "\n",
    "<img src=\"fig/part2.png\" width=400><p style=\"font-size: 0.9em\"><i></i></p>\n",
    "\n",
    "Writing out equations for nodes 0, 1, 2, and 3:\n",
    "\n",
    "$$\n",
    "\\begin{equation}\n",
    "P_{1}+P_{-1}-2P_0=0\n",
    "\\tag{7}\n",
    "\\end{equation}\n",
    "$$\n",
    "\n",
    "$$\n",
    "\\begin{equation}\n",
    "P_{2}+P_{0}-2P_1=0\n",
    "\\tag{8}\n",
    "\\end{equation}\n",
    "$$\n",
    "\n",
    "$$\n",
    "\\begin{equation}\n",
    "P_{3}+P_{1}-2P_2=0\n",
    "\\tag{9}\n",
    "\\end{equation}\n",
    "$$\n",
    "\n",
    "$$\n",
    "\\begin{equation}\n",
    "P_{4}+P_{2}-2P_3=0\n",
    "\\tag{10}\n",
    "\\end{equation}\n",
    "$$\n",
    "\n",
    "To apply boundary condition (16), forward difference method is preferred since the condition is valid for the physical point located between cells $P_{-1}$ and $P_0$:\n",
    "\n",
    "$$\n",
    "\\begin{equation}\n",
    "\\frac{dp}{dy}(y=y_w)=\\frac{P_0-P_{-1}}{\\Delta y}=\\alpha\n",
    "\\tag{11}\n",
    "\\end{equation}\n",
    "$$\n",
    "\n",
    "Rearranging gives:\n",
    "\n",
    "$$\n",
    "\\begin{equation}\n",
    "P_{-1}=P_0-\\alpha\\Delta y\n",
    "\\tag{12}\n",
    "\\end{equation}\n",
    "$$\n",
    "\n",
    "Inserting this and the \"lazy\" boudary condition $P_4=P_e$, and rearranging equations (7-10) gives:\n",
    "\n",
    "$$\n",
    "\\begin{equation}\n",
    "-P_{0}+P_{1}-2P_0=\\alpha\\Delta y\n",
    "\\tag{13}\n",
    "\\end{equation}\n",
    "$$\n",
    "\n",
    "$$\n",
    "\\begin{equation}\n",
    "P_0-2P_1+P_2=0\n",
    "\\tag{14}\n",
    "\\end{equation}\n",
    "$$\n",
    "\n",
    "$$\n",
    "\\begin{equation}\n",
    "P_1-2P_2+P_3=0\n",
    "\\tag{15}\n",
    "\\end{equation}\n",
    "$$\n",
    "\n",
    "$$\n",
    "\\begin{equation}\n",
    "P_2-2P_3=-p_e\n",
    "\\tag{19}\n",
    "\\end{equation}\n",
    "$$\n",
    "\n",
    "Rewriting into matrix form gives:\n",
    "\n",
    "$$\n",
    "\\begin{equation}\n",
    "\\left(\n",
    "\\begin{array}{cccc}\n",
    "-1&1&0&0\\\\ \n",
    "1&-2&1&0\\\\ \n",
    "0&1&-2&1\\\\ \n",
    "0&0&1&-2\\\\ \n",
    "\\end{array}\n",
    "\\right)\n",
    "\\left(\n",
    "\\begin{array}{c}\n",
    "P_0\\\\ \n",
    "P_1\\\\ \n",
    "P_2\\\\ \n",
    "P_3\\\\ \n",
    "\\end{array}\n",
    "\\right)\n",
    "=\n",
    "\\left(\n",
    "\\begin{array}{c}\n",
    "\\alpha\\Delta y\\\\ \n",
    "0\\\\ \n",
    "0\\\\ \n",
    "-p_e\n",
    "\\end{array}\n",
    "\\right).\n",
    "\\end{equation}\n",
    "\\tag{20}\n",
    "$$"
   ]
  },
  {
   "cell_type": "markdown",
   "metadata": {},
   "source": [
    "#### Part 3"
   ]
  },
  {
   "cell_type": "markdown",
   "metadata": {},
   "source": [
    "The truncation error introduced from the current form of the Taylor equation is:\n",
    "\n",
    "$$\n",
    "\\begin{equation}\n",
    "\\epsilon=\\frac{2}{4!}P^{(4)}(y)\\Delta y^2\n",
    "\\tag{21}\n",
    "\\end{equation}\n",
    "$$\n",
    "\n",
    "Since P(y) is a linear equation, the fourth derivative will be zero for all y."
   ]
  },
  {
   "cell_type": "markdown",
   "metadata": {},
   "source": [
    "#### Part 4"
   ]
  },
  {
   "cell_type": "markdown",
   "metadata": {},
   "source": [
    "<img src=\"fig/part4.png\" width=100><p style=\"font-size: 0.9em\"><i></i></p>\n",
    "\n",
    "### Lazy error\n",
    "To find the error term of lazy method we start with a Taylor expansion of $P_4$.\n",
    "\n",
    "$$\n",
    "\\begin{equation}\n",
    "P_4 = P(y_e+\\Delta y/2)=P(y_e)+P'(y_e)\\Delta y/2+...\n",
    "\\tag{22}\n",
    "\\end{equation}\n",
    "$$\n",
    "\n",
    "Looking at the error terms and expanding it with forward difference gives:\n",
    "\n",
    "$$\n",
    "\\begin{equation}\n",
    "\\epsilon=P'(y_e)\\Delta y/2=\\frac{P_4-P_e}{\\Delta y/2}\\Delta y/2\n",
    "\\tag{23}\n",
    "\\end{equation}\n",
    "$$\n",
    "\n",
    "Inserting original pressure function (4) and shortening expression gives:\n",
    "\n",
    "$$\n",
    "\\begin{equation}\n",
    "\\epsilon=\\alpha(y_4-y_e)+p_{init}-[\\alpha(y_e-y_e)+p_{init}]=\\alpha\\Delta y/2\n",
    "\\tag{24}\n",
    "\\end{equation}\n",
    "$$\n",
    "\n",
    "From this expression we can see that the error, in pressure, is proportional to both $\\alpha$ and $\\Delta y$. In this case, where $\\alpha$ is constant the error will scale linearly with $\\Delta y=y_e/N$. Doubling the amount of nodes is then expected to halve the error.\n",
    "\n",
    "### \"Not-so-lazy\" expression\n",
    "To derive \"not-so-lazy\" value for $P_4$, the forward difference method with step size $\\frac{\\Delta y}{2}$ is used:\n",
    "\n",
    "$$\n",
    "\\begin{equation}\n",
    "P'(y)=\\frac{P_{i+1}-P_i}{\\Delta y/2}\n",
    "\\tag{25}\n",
    "\\end{equation}\n",
    "$$\n",
    "\n",
    "As we know that $P'(y)=\\alpha$ for all y we can write out forward difference equations for nodes $P_3$ and $P_e$:\n",
    "\n",
    "$$\n",
    "\\begin{equation}\n",
    "\\frac{P_e-P_3}{\\Delta y/2}=\\alpha\n",
    "\\tag{26}\n",
    "\\end{equation}\n",
    "$$\n",
    "\n",
    "$$\n",
    "\\begin{equation}\n",
    "\\frac{P_4-P_e}{\\Delta y/2}=\\alpha\n",
    "\\tag{27}\n",
    "\\end{equation}\n",
    "$$\n",
    "\n",
    "After moving $\\Delta y/2$ to right hand side we can subract (24) from (23) to obtain:\n",
    "\n",
    "$$\n",
    "\\begin{equation}\n",
    "P_e-P_3-(P_4-P_e)=0\n",
    "\\tag{28}\n",
    "\\end{equation}\n",
    "$$\n",
    "\n",
    "By rearranging and generalizing the equation we get:\n",
    "\n",
    "$$\n",
    "\\begin{equation}\n",
    "P_N=2P_e-P_{N-1}\n",
    "\\tag{29}\n",
    "\\end{equation}\n",
    "$$\n",
    "\n",
    "### \"Not-so-lazy\" matrix\n",
    "Including new and improved boundary condition into the matrix gives:\n",
    "\n",
    "$$\n",
    "\\begin{equation}\n",
    "\\left(\n",
    "\\begin{array}{cccc}\n",
    "-1&1&0&0\\\\ \n",
    "1&-2&1&0\\\\ \n",
    "0&1&-2&1\\\\ \n",
    "0&0&1&-3\\\\ \n",
    "\\end{array}\n",
    "\\right)\n",
    "\\left(\n",
    "\\begin{array}{c}\n",
    "P_0\\\\ \n",
    "P_1\\\\ \n",
    "P_2\\\\ \n",
    "P_3\\\\ \n",
    "\\end{array}\n",
    "\\right)\n",
    "=\n",
    "\\left(\n",
    "\\begin{array}{c}\n",
    "\\alpha\\Delta y\\\\ \n",
    "0\\\\ \n",
    "0\\\\ \n",
    "-2p_e\n",
    "\\end{array}\n",
    "\\right).\n",
    "\\end{equation}\n",
    "\\tag{30}\n",
    "$$"
   ]
  },
  {
   "cell_type": "markdown",
   "metadata": {},
   "source": [
    "#### Part 5"
   ]
  },
  {
   "cell_type": "code",
   "execution_count": 2,
   "metadata": {},
   "outputs": [],
   "source": [
    "from Reservoir import Reservoir\n",
    "from Reservoir import plot_error\n",
    "import matplotlib.pyplot as plt\n",
    "import numpy as np"
   ]
  },
  {
   "cell_type": "code",
   "execution_count": 3,
   "metadata": {},
   "outputs": [
    {
     "data": {
      "image/png": "[encoded data removed]",
      "text/plain": [
       "<Figure size 432x288 with 1 Axes>"
      ]
     },
     "metadata": {
      "needs_background": "light"
     },
     "output_type": "display_data"
    },
    {
     "name": "stdout",
     "output_type": "stream",
     "text": [
      "N = [  10  100 1000]\n",
      "Not lazy = [4.547473508864641e-13, 1.4097167877480388e-11, 5.95719029661268e-11]\n",
      "Lazy = [0.40267295875992204, 0.040267295890316745, 0.004026729647193861]\n"
     ]
    }
   ],
   "source": [
    "N_vals = np.logspace(1, 3, 3).astype(int)\n",
    "plot_error(N_vals)"
   ]
  },
  {
   "cell_type": "markdown",
   "metadata": {},
   "source": [
    "The function plot_error calculates the difference between numerical solver and analytic solution in the same physical points for both lazy and not-so-lazy boundary conditions. It can be observed that for lazy method the error is scaling as expected from not-so-lazy the analytic investigation in Part 4. The error for not-so-lazy method is very small, but has an increasing trend. We speculate that this may be related to machine error / finite number comuting contributing relatively more when step size decreases.\n",
    "\n",
    "While taking a step back and observing that the units of the error is in psi, we realize that even the lazy method would likely have sufficient accuracy for a real life implementation."
   ]
  },
  {
   "cell_type": "markdown",
   "metadata": {},
   "source": [
    "### Exercise 2\n",
    "#### Part 1"
   ]
  },
  {
   "cell_type": "markdown",
   "metadata": {},
   "source": [
    "<img src=\"fig/Ex2p1_1.png\" width=550><p style=\"font-size: 0.9em\"><i></i></p>\n",
    "<img src=\"fig/Ex2p1_2.png\" width=550><p style=\"font-size: 0.9em\"><i></i></p>"
   ]
  },
  {
   "cell_type": "markdown",
   "metadata": {},
   "source": [
    "#### Part 2"
   ]
  },
  {
   "cell_type": "code",
   "execution_count": 2,
   "metadata": {},
   "outputs": [],
   "source": [
    "from PressureSolver import PressureSolver"
   ]
  },
  {
   "cell_type": "code",
   "execution_count": 5,
   "metadata": {},
   "outputs": [
    {
     "name": "stdout",
     "output_type": "stream",
     "text": [
      "[[ 5.28702460e+03 -5.28602460e+03  0.00000000e+00  0.00000000e+00]\n",
      " [-9.42633218e+01  1.89526644e+02 -9.42633218e+01  0.00000000e+00]\n",
      " [ 0.00000000e+00 -1.68095582e+00  4.36191165e+00 -1.68095582e+00]\n",
      " [ 0.00000000e+00  0.00000000e+00 -2.99757363e-02  1.08992721e+00]]\n"
     ]
    }
   ],
   "source": [
    "PressureSolver(dt=0.01*24).A_matrix()"
   ]
  },
  {
   "cell_type": "markdown",
   "metadata": {},
   "source": [
    "#### Part 3"
   ]
  },
  {
   "cell_type": "markdown",
   "metadata": {},
   "source": [
    "See Excercise 3 and 4."
   ]
  },
  {
   "cell_type": "markdown",
   "metadata": {},
   "source": [
    "### Exercise 3\n",
    "#### Part 1"
   ]
  },
  {
   "cell_type": "code",
   "execution_count": 7,
   "metadata": {},
   "outputs": [
    {
     "data": {
      "image/png": "[encoded data removed]",
      "text/plain": [
       "<Figure size 432x288 with 1 Axes>"
      ]
     },
     "metadata": {
      "needs_background": "light"
     },
     "output_type": "display_data"
    },
    {
     "data": {
      "image/png": "[encoded data removed]",
      "text/plain": [
       "<Figure size 432x288 with 1 Axes>"
      ]
     },
     "metadata": {
      "needs_background": "light"
     },
     "output_type": "display_data"
    },
    {
     "data": {
      "image/png": "[encoded data removed]",
      "text/plain": [
       "<Figure size 432x288 with 1 Axes>"
      ]
     },
     "metadata": {
      "needs_background": "light"
     },
     "output_type": "display_data"
    }
   ],
   "source": [
    "PressureSolver(N=4, dt=499, t_final=500,  k=250, re=10000, p_i=4000).solution_comparison()\n",
    "PressureSolver(N=40, dt=499, t_final=500,  k=250, re=10000, p_i=4000).solution_comparison()\n",
    "PressureSolver(N=40, dt=499, t_final=500,  k=250, re=1000, p_i=4000).solution_comparison()"
   ]
  },
  {
   "cell_type": "markdown",
   "metadata": {},
   "source": [
    "First two plots show difference between numerical solver and line solution for N = 4 and N = 40. Qualitatively we can see that the curves fit quite well, even if some systemetic difference is observable in order of magnitude 1%.\n",
    "\n",
    "Third plot shows what happens when time passes beyond reaching stedy state for numerical solver. The reason is that line solution assumes infinite reservoir. Note that the last node for line solution for y_e is forced to be equal to p_e."
   ]
  },
  {
   "cell_type": "markdown",
   "metadata": {},
   "source": [
    "#### Part 2"
   ]
  },
  {
   "cell_type": "markdown",
   "metadata": {},
   "source": [
    "In this Part the %timeit functionality is used to find the difference in time used by the solvers. The solvers are imported and shown in the appendix at the end of the report. The Thomas algorithm is taken from the project paper's appendix. "
   ]
  },
  {
   "cell_type": "code",
   "execution_count": 11,
   "metadata": {},
   "outputs": [],
   "source": [
    "from linearSolvers import denseSolver, sparseSolver, thomasAlgorithmSolver\n",
    "from scipy.sparse import linalg"
   ]
  },
  {
   "cell_type": "code",
   "execution_count": 13,
   "metadata": {},
   "outputs": [
    {
     "name": "stdout",
     "output_type": "stream",
     "text": [
      "----------------------------------------------------------\n",
      "Dense solver with N = 4\n",
      "9.47 µs ± 262 ns per loop (mean ± std. dev. of 7 runs, 100,000 loops each)\n",
      "Sparse solver with N = 4\n",
      "278 µs ± 8.49 µs per loop (mean ± std. dev. of 7 runs, 1,000 loops each)\n",
      "Thomas algorithm solver with N = 4\n",
      "50 µs ± 826 ns per loop (mean ± std. dev. of 7 runs, 10,000 loops each)\n",
      "----------------------------------------------------------\n",
      "Dense solver with N = 40\n",
      "33 µs ± 2.6 µs per loop (mean ± std. dev. of 7 runs, 10,000 loops each)\n",
      "Sparse solver with N = 40\n",
      "329 µs ± 18.6 µs per loop (mean ± std. dev. of 7 runs, 1,000 loops each)\n",
      "Thomas algorithm solver with N = 40\n",
      "159 µs ± 9.84 µs per loop (mean ± std. dev. of 7 runs, 10,000 loops each)\n",
      "----------------------------------------------------------\n",
      "Dense solver with N = 400\n",
      "16.4 ms ± 743 µs per loop (mean ± std. dev. of 7 runs, 100 loops each)\n",
      "Sparse solver with N = 400\n",
      "1.87 ms ± 54.1 µs per loop (mean ± std. dev. of 7 runs, 1,000 loops each)\n",
      "Thomas algorithm solver with N = 400\n",
      "1.25 ms ± 45 µs per loop (mean ± std. dev. of 7 runs, 1,000 loops each)\n",
      "----------------------------------------------------------\n",
      "Dense solver with N = 4000\n",
      "16.9 s ± 246 ms per loop (mean ± std. dev. of 7 runs, 1 loop each)\n",
      "Sparse solver with N = 4000\n",
      "139 ms ± 3.26 ms per loop (mean ± std. dev. of 7 runs, 10 loops each)\n",
      "Thomas algorithm solver with N = 4000\n",
      "12.4 ms ± 630 µs per loop (mean ± std. dev. of 7 runs, 100 loops each)\n",
      "----------------------------------------------------------\n"
     ]
    }
   ],
   "source": [
    "def timeit(f, N):\n",
    "    \"\"\"\n",
    "    Uses %timeit on the function given as parameter 1. \\\\\n",
    "    Creates a NxN A matrix and Nx1 b array for equation 'Ax=b'. \\\\\n",
    "    Solves it using function given as parameter 1.\n",
    "    Args:\n",
    "        f (function): Function used to solve equation 'Ax=b'.\n",
    "        N (double): Integer value which determines size of A and b for equation to calculate 'Ax=b'.\n",
    "    \"\"\"\n",
    "    ps = PressureSolver(N = N)\n",
    "    A = ps.A\n",
    "    b = ps.b\n",
    "    %timeit f(A, b)\n",
    "\n",
    "# TIME WITH DIFFERENT N\n",
    "import warnings\n",
    "warnings.filterwarnings('ignore') # Thomas algorithm has overflow issues\n",
    "\n",
    "print(\"----------------------------------------------------------\")\n",
    "N_vals = [4, 40, 400, 4000]\n",
    "for N in N_vals:\n",
    "    print(f'Dense solver with N = {N}')\n",
    "    timeit(denseSolver, N)\n",
    "    print(f'Sparse solver with N = {N}')\n",
    "    timeit(sparseSolver, N)\n",
    "    print(f'Thomas algorithm solver with N = {N}')\n",
    "    timeit(thomasAlgorithmSolver, N)\n",
    "    print(\"----------------------------------------------------------\")\n",
    "\n",
    "warnings.filterwarnings('default')"
   ]
  },
  {
   "cell_type": "markdown",
   "metadata": {},
   "source": [
    "The results here highlight the usefulness of sparse matrices very well. When N grows\n",
    "and there are more empty cells in the A matrix, the sparse techniques have a exponential\n",
    "relationship of execution time difference to the dense solver with respect to N."
   ]
  },
  {
   "cell_type": "markdown",
   "metadata": {},
   "source": [
    "#### Part 3 (Optional)"
   ]
  },
  {
   "cell_type": "markdown",
   "metadata": {},
   "source": [
    "By comparing the result for \"one big\" time step *h* with the result of doing \"two small\" time steps *h/2*. The difference between the \"true\" solution and the result for \"two small\" time steps will be equal to the difference between \"two small\" steps and \"one big\"."
   ]
  },
  {
   "cell_type": "markdown",
   "metadata": {},
   "source": [
    "### Exercise 4\n",
    "#### Part 1"
   ]
  },
  {
   "cell_type": "markdown",
   "metadata": {},
   "source": [
    "<img src=\"fig/Ex4p1.png\" width=400><p style=\"font-size: 0.9em\"><i></i></p>"
   ]
  },
  {
   "cell_type": "code",
   "execution_count": 16,
   "metadata": {},
   "outputs": [
    {
     "data": {
      "text/plain": [
       "array([27579029.16      , 24319847.29360438, 24275983.19803914,\n",
       "       24274036.09213634, 24273949.23377997, 24273945.35901853,\n",
       "       24273945.18616495, 24273945.17845393, 24273945.17810993,\n",
       "       24273945.17809459, 24273945.17809391, 24273945.17809387])"
      ]
     },
     "execution_count": 16,
     "metadata": {},
     "output_type": "execute_result"
    }
   ],
   "source": [
    "PressureSolver(dt=200, t_final=2000, k=250, re=10000, p_i=4000).Numeric_BHP()"
   ]
  },
  {
   "cell_type": "markdown",
   "metadata": {},
   "source": [
    "#### Part 2"
   ]
  },
  {
   "cell_type": "code",
   "execution_count": 3,
   "metadata": {},
   "outputs": [
    {
     "data": {
      "image/png": "[encoded data removed]",
      "text/plain": [
       "<Figure size 432x288 with 1 Axes>"
      ]
     },
     "metadata": {
      "needs_background": "light"
     },
     "output_type": "display_data"
    }
   ],
   "source": [
    "PressureSolver().match_test_data(Test_data = True, Numerical = False, Line_solution = False, x_scale='linear')"
   ]
  },
  {
   "cell_type": "markdown",
   "metadata": {},
   "source": [
    "#### Part 3"
   ]
  },
  {
   "cell_type": "code",
   "execution_count": 4,
   "metadata": {},
   "outputs": [
    {
     "data": {
      "image/png": "[encoded data removed]",
      "text/plain": [
       "<Figure size 432x288 with 1 Axes>"
      ]
     },
     "metadata": {
      "needs_background": "light"
     },
     "output_type": "display_data"
    },
    {
     "data": {
      "image/png": "[encoded data removed]",
      "text/plain": [
       "<Figure size 432x288 with 1 Axes>"
      ]
     },
     "metadata": {
      "needs_background": "light"
     },
     "output_type": "display_data"
    }
   ],
   "source": [
    "PressureSolver(N= 40, dt=1, t_final=2000, k=500, re=1000, p_i=3900).match_test_data(Test_data = True, Numerical = True, Line_solution = True)\n",
    "PressureSolver(N= 40, dt=1, t_final=2000, k=250, re=10000, p_i=4000).match_test_data(Test_data = True, Numerical = True, Line_solution = True)"
   ]
  },
  {
   "cell_type": "markdown",
   "metadata": {},
   "source": [
    "Comparing numerical solution and line solution to test data.\n",
    "Showing plots of original input parameters and curve fitted parameters.</br>\n",
    "\n",
    "Curve fitting was done manually following this process:\n",
    "1. Adjusted R_e to show effect of hitting reservoir boundary toward end of well test. \n",
    "    - By increasing R_e it will take longer time to reach steady state, or the flattening trend we see in the test data towards the end.\n",
    "2. Adjusted k to match slope of test data.\n",
    "    - Decreasing k (permeability) will decrease the slope of the curve. Higher permeability will promote flow and reduce friction.\n",
    "3. Adjusted initial pressure to shift curve vertically.\n",
    "4. (iterated to fine tune).\n",
    "\n",
    "We note that the line solution will not be able to show the effect of hitting reservoir boundary as it assumes a boundless reservior."
   ]
  },
  {
   "cell_type": "markdown",
   "metadata": {},
   "source": [
    "#### Part 4"
   ]
  },
  {
   "cell_type": "code",
   "execution_count": 20,
   "metadata": {},
   "outputs": [
    {
     "name": "stdout",
     "output_type": "stream",
     "text": [
      "24463999 cubic meters\n"
     ]
    }
   ],
   "source": [
    "print(f'{PressureSolver(re=10000).Volume_of_water():.0f} cubic meters')"
   ]
  },
  {
   "cell_type": "markdown",
   "metadata": {},
   "source": [
    "With nothing else to go by to judge if the result makes sense we can say that 24 million cubic meters would equate a small oil reservoir and seems like a plausible result for the input data."
   ]
  },
  {
   "cell_type": "markdown",
   "metadata": {},
   "source": [
    "### Reflections\n",
    "\n",
    "We had frequent meetings using Teams, on average every 4~ days. We split up the work, worked separately and then during meetings brought eachother up to speed on what we had been doing, what developments had occurred and what issues we were currently facing. We also made all large decisions on style and format in unison. Git hub was used as collaboration platform for project files.\n",
    "\n",
    "We learned about model errors, numerical calculation errors in different methods and about analytical vs numerical errors. We also learned how to implement both types and several types of solvers.\n",
    "\n",
    "#### Andreas\n",
    "I was fortunate in having a partner who had relevant domain knowledge from previous a degree and work experience to understand and work with the derivations of this project. Because of this, I could focus on setting up a better report template to work with for all the next projects in this course, by using the feedback from project 1 as a guide. Because of my solid understanding of Python, I could also assist and work together with Daniel to create solutions which worked as we expected. The code still lacks a lot of fine-tuning both in terms of optimization and bug smells, but we simply have to move on for time management reasons.\n",
    "\n",
    "Utilizing the Thomas algorithm to solve the linear equations produced warnings about overflow, which probably means it reaches an incredibly large number at some point. This sometimes worked and other times didn't, which is why it was simply ignored. We maybe should've tried to make the function more robust, and/or improve it generally speaking.\n",
    "\n",
    "#### Daniel\n",
    "As a novice programmer I learned many things, spanning from how to use pandas to import data to an array to learning that my natural way of thinking very often results in a usable code. I'm also very fortunate to have an experienced programmer in my group, who have taught me about coding convensions and how to improve readablity and future vale of the code we produce today. More technically from the project I've learned, again, that robust mathematics simply works! It's fun to live in a paradigm where natural phenomenon can be desciphered and used to predict future events. Having some domain knowledge into petroleum engineering helped me visualize the mechanics involved in this project.\n",
    "\n",
    "We encountered some compatibility issues between anaconda and jupyter note books, where it was very cumbersome to run code from external python file after updating it (VS-code had to be reset every time). For next project we will investigate how to setup our system to make the work easier.\n",
    "\n",
    "### Conclusion\n",
    "\n",
    "Learned about error gathering and comparisons, giving insight into modelling consequences. Also got experience with implementing algorithms to solve linear equations, in several ways and comparing their speed (at least for the use case of tridiagonal matrices).\n",
    "\n",
    "Can most likely improve the performance of most of the code in some way. Numba couldfor example be used in the linear solver for the Thomas algorithm, but it was left as it is because it seemed sufficient since it was already the fastest at higher choices of *N* anyway.\n",
    "\n",
    "Most of the time during this work we encountered two types of issues;\n",
    "1. Code implementation issues\n",
    "2. Theoretical issues\n",
    "\n",
    "For the theoretical issues we mostly looked at the lecture notes and course book. The previous Part with the heat equation was particularly useful. For the code implementation issues we mostly consulted the documentation of the library we worked with or rewrote our code.\n",
    "\n",
    "### References\n",
    "1. [NumPy documentation](https://numpy.org/doc/)\n",
    "2. [SciPy documentation](https://docs.scipy.org/doc/scipy/)\n",
    "3. [Timeit](https://docs.python.org/3/library/timeit.html)\n",
    "4. Lecture notes\n",
    "5. [Course book](https://github.com/ahiorth/CompEngineering)\n",
    "6. Computational physics, by Mark E.J. Newman (2013)\n",
    "7. [Teams](https://www.microsoft.com/en-us/microsoft-teams/log-in)\n",
    "8. [World can ‘safely’ store billions of tonnes of CO2 underground](https://www.carbonbrief.org/world-can-safely-store-billions-tonnes-co2-underground/)"
   ]
  },
  {
   "cell_type": "markdown",
   "metadata": {},
   "source": [
    "### Appendix A - Python files\n",
    "#### Reservoir.py"
   ]
  },
  {
   "cell_type": "code",
   "execution_count": null,
   "metadata": {},
   "outputs": [],
   "source": [
    "import numpy as np\n",
    "import matplotlib.pyplot as plt\n",
    "\n",
    "\n",
    "class Reservoir:\n",
    "\n",
    "    def __init__(self, N=4, r_e=1000, r_w=0.318, alpha=1, p_init=3900, lazy=False):\n",
    "\n",
    "        self.N = N  # number of nodes\n",
    "        self.lazy = lazy\n",
    "        self.r_e = r_e  # ft\n",
    "        self.r_w = r_w  # ft\n",
    "        self.alpha = alpha\n",
    "        self.p_init = p_init  # psi\n",
    "        self.y_e = np.log(r_e/r_w)  # dimensionless\n",
    "        self.h = self.y_e/N  # h = \\Delta y\n",
    "\n",
    "        # shifting nodes h/2 away from y_w and y_e\n",
    "        self.y = np.linspace(self.h/2, self.y_e-self.h/2, self.N)\n",
    "        self.y = np.append(self.y, self.y_e)  # manually adding y_e\n",
    "        # transforming y back into radius for plotting\n",
    "        self.r = self.r_w*np.exp(self.y)\n",
    "\n",
    "        self.ya = np.linspace(0, self.y_e, 100)\n",
    "        # transforming ya back into radius for plotting\n",
    "        self.ra = self.r_w*np.exp(self.ya)\n",
    "\n",
    "        self.sol = self.pressure_solver()\n",
    "\n",
    "        self.N_all = np.logspace(0, 1, 2).astype(int)*4\n",
    "        self.e_lazy = []\n",
    "        self.e_not_lazy = []\n",
    "\n",
    "        self.e = 0\n",
    "\n",
    "    def P(self, y):\n",
    "        sola = self.alpha*(y-self.y_e)+self.p_init\n",
    "        return sola\n",
    "\n",
    "    def pressure_solver(self):\n",
    "\n",
    "        a = np.ones(self.N-1)\n",
    "        a2 = np.ones(self.N-1)\n",
    "        b = np.repeat(-2, self.N)\n",
    "\n",
    "        # right hand side\n",
    "        c = np.zeros(self.N)\n",
    "\n",
    "        # internal boundary\n",
    "        b[0] = -1\n",
    "        c[0] = self.alpha*self.h\n",
    "\n",
    "        # exterior boundary\n",
    "        if self.lazy:\n",
    "            c[-1] = -self.p_init\n",
    "        else:\n",
    "            # not so lazy\n",
    "            b[-1] = -3\n",
    "            c[-1] = -2*self.p_init\n",
    "\n",
    "        # k=0 diagonal, k neq 0 off diagonal\n",
    "        A = np.diag(a2, k=-1)+np.diag(b, k=0)+np.diag(a, k=1)\n",
    "        sol = np.linalg.solve(A, c)\n",
    "\n",
    "        # manually adding p_init to match y_e in y-array\n",
    "        sol = np.append(sol, self.p_init)\n",
    "        return sol\n",
    "\n",
    "    def plot_pressure(self):\n",
    "        if self.lazy:\n",
    "            leg = 'Lazy'\n",
    "        else:\n",
    "            leg = 'Not-so-lazy'\n",
    "\n",
    "        plt.plot(self.r, self.sol, '*', label='Numerical, '+leg)\n",
    "        plt.plot(self.ra, self.P(self.ya), '-', label='Analytical')\n",
    "        plt.title('{} method with N={}'.format(leg, self.N))\n",
    "        plt.grid()\n",
    "        plt.legend()\n",
    "        return\n",
    "\n",
    "        # difference between analytical and numerical solution in p_0\n",
    "    def single_error(self):\n",
    "        error = self.P(self.y)[0] - self.pressure_solver()[0]\n",
    "        return error\n",
    "\n",
    "def plot_error(N_vals):\n",
    "    notLazy = []\n",
    "    lazy = []\n",
    "\n",
    "    for i in N_vals:\n",
    "        notLazy.append(Reservoir(N=i).single_error())\n",
    "        lazy.append(Reservoir(N=i, lazy=True).single_error())\n",
    "\n",
    "    fig, ax = plt.subplots()\n",
    "    ax.set_title('Calculation error for lazy and not-so-lazy boundary conditions')\n",
    "    ax.set_xlabel('Number of nodes (N)')\n",
    "    ax.set_ylabel('Error (psi)')\n",
    "    ax.set_xscale('log')\n",
    "    ax.set_yscale('log')\n",
    "    \n",
    "    x_val = N_vals\n",
    "    y_vals = [notLazy, lazy]\n",
    "    labels = [\"Not lazy\", \"Lazy\"]\n",
    "    cols = ['b', 'c']\n",
    "    points = ['-', '-']\n",
    "    for y_val, point, col, label in zip(y_vals, points, cols, labels):\n",
    "        ax.plot(x_val, y_val, point, c=col, label=label)\n",
    "    plt.grid()\n",
    "    plt.legend()\n",
    "    plt.show()\n",
    "\n",
    "    print(f'N = {N_vals}')\n",
    "    print(f'Not lazy = {notLazy}')\n",
    "    print(f'Lazy = {lazy}')\n",
    "\n"
   ]
  },
  {
   "cell_type": "markdown",
   "metadata": {},
   "source": [
    "#### PressureSolver.py"
   ]
  },
  {
   "cell_type": "code",
   "execution_count": null,
   "metadata": {},
   "outputs": [],
   "source": [
    "import matplotlib.pyplot as plt\n",
    "import numpy as np\n",
    "import pandas as pd\n",
    "import scipy.special as sc\n",
    "\n",
    "class PressureSolver:\n",
    "    \"\"\"\n",
    "    A finite difference solver to solve pressure distribution in\n",
    "    a reservoir, logarithmic grid has been used, y = ln(r/rw)\n",
    "    The solver uses SI units internally, while \"practical field units\"\n",
    "    are required as input.\n",
    "    A and b is the system of style 'Ax=b'.\n",
    "    Input arguments:\n",
    "    name symbol unit\n",
    "    --------------------------------------------------------------\n",
    "    Number of grid points N dimensionless\n",
    "    Constant time step dt days\n",
    "    Well radius rw ft\n",
    "    Outer reservoir boundary re ft\n",
    "    Height of reservoir h ft\n",
    "    Absolute permeability k mD\n",
    "    Porosity phi dimensionless\n",
    "    Fluid viscosity mu mPas (cP)\n",
    "    Total (rock+fluid) compressibility ct 1 / psi\n",
    "    Constant flow rate at well Q bbl / day\n",
    "    Initial reservoir pressure pi psi\n",
    "    14\n",
    "    -------------------------------------------------------------\n",
    "    \"\"\"\n",
    "\n",
    "    def __init__(self,\n",
    "                 N=4,\n",
    "                 dt=0.010,\n",
    "                 t_final=1,\n",
    "                 rw=0.318,\n",
    "                 re=1000.0,\n",
    "                 h=11.0,\n",
    "                 phi=0.25,\n",
    "                 mu=1.0,\n",
    "                 ct=7.8e-6,\n",
    "                 Q=1000.0,\n",
    "                 k=500,\n",
    "                 p_i=3900.0):\n",
    "\n",
    "        # Unit conversion factors (input units --> SI)\n",
    "        self.ft_to_m = 0.3048\n",
    "        self.psi_to_pa = 6894.75729\n",
    "        self.day_to_sec = 24*60*60\n",
    "        self.hour_to_sec = 60*60\n",
    "        self.bbl_to_m3 = 0.1589873\n",
    "\n",
    "        # Grid\n",
    "        self.N = N\n",
    "        self.r_w = rw*self.ft_to_m\n",
    "        self.r_e = re*self.ft_to_m\n",
    "        self.h = h*self.ft_to_m\n",
    "\n",
    "        self.y_e = np.log(self.r_e/self.r_w)  # dimensionless\n",
    "        self.dy = self.y_e/N  # h = \\Delta y\n",
    "        # shifting nodes h/2 away from y_w and y_e\n",
    "        self.y = np.linspace(self.dy/2, self.y_e-self.dy/2, self.N)\n",
    "        # transforming y back into radius for plotting\n",
    "        self.r = self.r_w*np.exp(self.y)\n",
    "\n",
    "        # Rock and fluid properties\n",
    "        self.k = k*1e-15 / 1.01325\n",
    "        self.phi = phi\n",
    "        self.mu = mu*1e-3\n",
    "        self.ct = ct / self.psi_to_pa\n",
    "        self.n_diff = self.k/self.mu/self.phi/self.ct  # hydraulic diffusivity constant\n",
    "\n",
    "        # Initial and boundary conditions\n",
    "        self.Q = Q*self.bbl_to_m3 / self.day_to_sec\n",
    "        self.p_i = p_i*self.psi_to_pa\n",
    "\n",
    "        # Time control for simulation\n",
    "        self.t = 0\n",
    "        self.dt = dt*self.hour_to_sec\n",
    "        self.t_final = t_final*self.hour_to_sec\n",
    "        self.t_all = []\n",
    "\n",
    "        # Calculation constants\n",
    "        self.eta = self.n_diff*np.exp(-2*self.y)*self.dt/self.r_w**2/self.dy**2\n",
    "        self.beta = self.Q*self.mu*self.dy/(2*np.pi*self.k*self.h)\n",
    "\n",
    "        # defina diagolas  and d vector\n",
    "        self.upperDiag = -self.eta[1:]\n",
    "        self.diag = np.ones(self.N)+2*self.eta\n",
    "        self.lowerDiag = -self.eta[0:self.N-1]\n",
    "        self.d = np.zeros(self.N)\n",
    "\n",
    "        # internal boundary\n",
    "        self.diag[0] = self.diag[0]-self.eta[0]\n",
    "        self.d[0] = -self.beta*self.eta[0]\n",
    "\n",
    "        # exterior boundary\n",
    "        self.diag[-1] = self.diag[-1]+self.eta[-1]\n",
    "        self.d[-1] = 2*self.p_i*self.eta[-1]\n",
    "\n",
    "        self.P_ini = np.repeat(self.p_i, self.N)\n",
    "        self.P_all = np.transpose(self.P_ini)\n",
    "        self.P_an_all = np.transpose(self.P_ini)\n",
    "        self.A = self.tri_diag()\n",
    "        self.b = self.P_ini + self.d\n",
    "\n",
    "    def tri_diag(self, k1=-1, k2=0, k3=1):\n",
    "        return np.diag(self.upperDiag, k1) + np.diag(self.diag, k2) + np.diag(self.lowerDiag, k3)\n",
    "\n",
    "    def A_matrix(self):\n",
    "        print(self.A)\n",
    "        return\n",
    "\n",
    "    def solve(self):\n",
    "        self.rhs = self.d+self.P_old\n",
    "        self.rhs[-1] = self.d[-1]+self.p_i  # constant pressure at boudary\n",
    "        self.P_new = np.linalg.solve(self.A, self.rhs)\n",
    "        return\n",
    "\n",
    "    def solve_time(self):\n",
    "        self.P_old = self.P_ini\n",
    "        while self.t <= self.t_final:\n",
    "            self.solve()\n",
    "            self.P_old = np.copy(self.P_new)\n",
    "            self.P_all = np.c_[self.P_old, self.P_all]\n",
    "            self.t_all = np.append(self.t_all, self.t) # collecting time steps for plotting later\n",
    "            self.t += self.dt\n",
    "        # adding row of p_i to correspond to y_e /  r_e\n",
    "        self.P_all = np.r_[self.P_all, [\n",
    "            np.repeat(self.p_i, len(self.P_all[0]))]]\n",
    "        return\n",
    "\n",
    "    def Numeric_BHP(self):\n",
    "        # extrapolates pressure in node p_0 to p_w and returns pressure vector for all nodes.\n",
    "        self.solve_time()\n",
    "        pw_num = np.flip(self.P_all[0, :]-self.beta/2) \n",
    "        pw_num[0] = self.p_i  # correcting point at t=0 to be initial pressure\n",
    "        return pw_num\n",
    "\n",
    "    def test_data(self):\n",
    "        # extracts test data from data file and puts it into arrays\n",
    "        df = pd.read_csv('data/well_bhp.dat', '\\t')\n",
    "        self.test_bhp = np.asarray(df['well_pressure'])*self.psi_to_pa\n",
    "        self.test_time = np.asarray(df['time'])*self.hour_to_sec\n",
    "        return\n",
    "\n",
    "    def match_test_data(self, Test_data = True, Numerical = True, Line_solution = True, x_scale='log'):\n",
    "        # gathers data from other internal functions and plots Well test data vs Numerical solution in the same plot\n",
    "        # the plot can be used to tweak unkown calculation input manually to match test data\n",
    "        pw_num = self.Numeric_BHP()\n",
    "        self.test_data()\n",
    "        fig = plt.figure()\n",
    "        self.t = self.dt\n",
    "        self.line_solution(self.r_w)\n",
    "        ax = fig.add_subplot(1, 1, 1)\n",
    "        if Test_data == True:\n",
    "            ax.plot(self.test_time/self.day_to_sec, self.test_bhp, '*', label='Test data')\n",
    "        if Numerical == True:\n",
    "            ax.plot(self.t_all/self.day_to_sec, pw_num[:-1], '*', label='Numerical')\n",
    "        if Line_solution == True:\n",
    "            ax.plot(self.t_all/self.day_to_sec, np.flip(self.P_an_all[0,:]), label='Line solution')\n",
    "        ax.legend(loc='best')\n",
    "        ax.set_title(f'Pressure data up to {self.t_final/self.day_to_sec:.0f} days.')\n",
    "        ax.set_xlabel('Time (days)')\n",
    "        ax.set_ylabel('Pressure (pa x 10e+7)')\n",
    "        plt.xscale(x_scale)\n",
    "        plt.grid()\n",
    "        return\n",
    "\n",
    "    def line_solution(self, r):\n",
    "        while self.t <= self.t_final:\n",
    "            self.P_an = self.P_ini+self.Q*self.mu/4/np.pi/self.k / \\\n",
    "                self.h*sc.expi(-r*r/4/self.n_diff/self.t)\n",
    "            self.P_an_all = np.c_[self.P_an, self.P_an_all]\n",
    "            self.t += self.dt\n",
    "        # adding row of p_i to correspond to y_e /  r_e\n",
    "        self.P_an_all = np.r_[self.P_an_all, [\n",
    "            np.repeat(self.p_i, len(self.P_an_all[0]))]]\n",
    "        return\n",
    "\n",
    "    def Volume_of_water(self):\n",
    "        return np.pi*self.r_e*self.r_e*self.h*self.phi\n",
    "\n",
    "    def plot(self, p):\n",
    "        plt.title('Pressure distribution up to ' + str(self.t_final/self.day_to_sec\n",
    "                                                       ) + ' days, with dt ' + str(self.dt/self.day_to_sec) + ' days.')\n",
    "        plt.plot(np.append(self.r, self.r_e), p, '*')\n",
    "        plt.xscale('log')\n",
    "        plt.grid()\n",
    "        plt.show()\n",
    "        return\n",
    "\n",
    "    def solution_comparison(self):\n",
    "        # for a comparison at a single point in time set dt slightly less than t_final, fex dt=199, t_final=200\n",
    "        self.t = self.dt\n",
    "        self.solve_time()\n",
    "        self.t = self.dt\n",
    "        self.line_solution(self.r)\n",
    "        fig = plt.figure()\n",
    "        ax = fig.add_subplot(1, 1, 1)\n",
    "        plt.title(f'Solution comparison at time {self.t_final/self.day_to_sec:.0f} days.')\n",
    "        ax.plot(np.append(self.r, self.r_e),\n",
    "                self.P_all[:, -2], '*', label='Numerical')\n",
    "        ax.plot(np.append(self.r, self.r_e),\n",
    "                self.P_an_all[:, -2], label='Analytical')\n",
    "        # loc=best, Automatically determines the position the place the legend desc.\n",
    "        ax.legend(loc='best')\n",
    "        ax.set_xlabel('Radius (m)')\n",
    "        ax.set_ylabel('Pressure (pa x 10e+7)')\n",
    "        plt.xscale('log')\n",
    "        plt.grid()\n",
    "        return"
   ]
  },
  {
   "cell_type": "markdown",
   "metadata": {},
   "source": [
    "#### linearSolvers.py"
   ]
  },
  {
   "cell_type": "code",
   "execution_count": null,
   "metadata": {},
   "outputs": [],
   "source": [
    "import numpy as np\n",
    "import scipy\n",
    "\n",
    "\n",
    "def denseSolver(A, b):\n",
    "    \"\"\"\n",
    "    Use dense solver which is a direct solver for a dense system 'Ax=b'.\n",
    "    :param A: A NumPy 2D array of a tridiagonal matrix-\n",
    "    :param b: A NumPy 1D array of the b vector of the equation 'Ax=b'.\n",
    "    :return: A NumPy 1D array of the x vector of the equation 'Ax=b', \n",
    "    \"\"\"\n",
    "    return np.linalg.solve(A, b)\n",
    "\n",
    "\n",
    "def sparseSolver(A, b):\n",
    "    \"\"\"\n",
    "    Use sparse solver which accelerates solving speed when many of the elements is 0. Solves systems in form 'Ax=b'.\n",
    "    :param A: A NumPy 2D array of a tridiagonal matrix-\n",
    "    :param b: A NumPy 1D array of the b vector of the equation 'Ax=b'.\n",
    "    :return: A NumPy 1D array of the x vector of the equation 'Ax=b', \n",
    "    \"\"\"\n",
    "    return scipy.sparse.linalg.spsolve(scipy.sparse.csr_matrix(A), b)\n",
    "\n",
    "\n",
    "def thomasAlgorithmSolver(A, b):\n",
    "    \"\"\"\n",
    "    Interface function for the thomas_algorithm function below.\n",
    "    :param A: A NumPy 2D array of a tridiagonal matrix.\n",
    "    :param b: A NumPy 1D array of the b vector of the equation 'Ax=b'.\n",
    "    :return: A NumPy 1D array of the x vector of the equation 'Ax=b', \n",
    "    \"\"\"\n",
    "    [numRows, numCols] = np.shape(A)\n",
    "    lowerDiag = np.r_[0,   np.array([A[i+1, i] for i in range(numRows-1)])]\n",
    "    diag = np.array([A[i,  i] for i in range(numRows)])\n",
    "    upperDiag = np.r_[np.array([A[i,  i+1] for i in range(numRows-1)]),    0]\n",
    "    return thomas_algorithm(lowerDiag, diag, upperDiag, b)\n",
    "\n",
    "\n",
    "def thomas_algorithm(l, d, u, r):\n",
    "    \"\"\"\n",
    "    Solves a tridiagonal linear system of equations with the Thomas-algorithm.\n",
    "    The code is based on pseudo-code from the following reference:\n",
    "    Cheney, E. W., & Kincaid, D. R.\n",
    "    Numerical mathematics and computing, 7th edition,\n",
    "    Cengage Learning, 2013.\n",
    "    IMPORTANT NOTES:\n",
    "    - This function modifies the contents of the input vectors l, d, u and rhs.\n",
    "    - For Numba to work properly, we must input NumPy arrays, and not lists.\n",
    "    :param l: A NumPy array containing the lower diagonal (l[0] is not used).\n",
    "    :param d: A NumPy array containing the main diagonal.\n",
    "    :param u: A NumPy array containing the upper diagonal (u[-1] is not used).\n",
    "    :param r: A NumPy array containing the system right-hand side vector.\n",
    "    :return: A NumPy array containing the solution vector.\n",
    "    \"\"\"\n",
    "    # Allocate memory for solution\n",
    "    solution = np.zeros_like(d)\n",
    "    n = len(solution)\n",
    "    # Forward elimination\n",
    "    for k in range(1, n):\n",
    "        xmult = l[k] / d[k-1]\n",
    "        d[k] = d[k] - xmult*u[k-1]\n",
    "        r[k] = r[k] - xmult*r[k-1]\n",
    "    # Back-substitution\n",
    "    solution[n-1] = r[n-1] / d[n-1]\n",
    "    for k in range(n-2, -1, -1):\n",
    "        solution[k] = (r[k]-u[k]*solution[k+1])/d[k]\n",
    "    return solution\n"
   ]
  }
 ],
 "metadata": {
  "kernelspec": {
   "display_name": "Python 3.10.4 ('MOD510')",
   "language": "python",
   "name": "python3"
  },
  "language_info": {
   "codemirror_mode": {
    "name": "ipython",
    "version": 3
   },
   "file_extension": ".py",
   "mimetype": "text/x-python",
   "name": "python",
   "nbconvert_exporter": "python",
   "pygments_lexer": "ipython3",
   "version": "3.10.4"
  },
  "orig_nbformat": 4,
  "vscode": {
   "interpreter": {
    "hash": "74c992d1e54af96d3be2fe620e7332a08caec497af6bc922b686d66ef361b7b0"
   }
  }
 },
 "nbformat": 4,
 "nbformat_minor": 2
}
