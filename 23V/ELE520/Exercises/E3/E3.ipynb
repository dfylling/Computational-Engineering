{
 "cells": [
  {
   "cell_type": "code",
   "execution_count": 1,
   "metadata": {},
   "outputs": [],
   "source": [
    "import numpy as np"
   ]
  },
  {
   "cell_type": "code",
   "execution_count": 10,
   "metadata": {},
   "outputs": [],
   "source": [
    "X = np.array([[1,2,1],[2,0,1],[3,1,1],[2,3,1]])\n",
    "Y = np.array([1,1,-1,-1])"
   ]
  },
  {
   "cell_type": "code",
   "execution_count": 18,
   "metadata": {},
   "outputs": [],
   "source": [
    "thi = np.array([1,1,1])"
   ]
  },
  {
   "cell_type": "code",
   "execution_count": 42,
   "metadata": {},
   "outputs": [
    {
     "data": {
      "text/plain": [
       "0.13274336283185842"
      ]
     },
     "execution_count": 42,
     "metadata": {},
     "output_type": "execute_result"
    }
   ],
   "source": [
    "0.15/1.13"
   ]
  },
  {
   "cell_type": "code",
   "execution_count": 40,
   "metadata": {},
   "outputs": [
    {
     "name": "stdout",
     "output_type": "stream",
     "text": [
      "[ 0.39508929 -1.13392857  0.14732143]\n",
      "[0.12202381 0.18303571 0.0610119 ]\n",
      "0.22828564413352917\n",
      "[ 0.5171131  -0.95089286  0.20833333]\n"
     ]
    }
   ],
   "source": [
    "my = 0.5/12\n",
    "y = Y[3]\n",
    "x = X[3]\n",
    "print(thi)\n",
    "thalf = my * (y-np.sum(thi*x))*x\n",
    "print(thalf)\n",
    "L = np.sqrt(np.sum(np.square(thalf)))\n",
    "print(L)\n",
    "print(thi+thalf)"
   ]
  },
  {
   "cell_type": "code",
   "execution_count": 35,
   "metadata": {},
   "outputs": [],
   "source": [
    "# run if L > 1\n",
    "thi = thi+thalf"
   ]
  },
  {
   "cell_type": "code",
   "execution_count": 3,
   "metadata": {},
   "outputs": [
    {
     "data": {
      "text/plain": [
       "1.3975424859373686"
      ]
     },
     "execution_count": 3,
     "metadata": {},
     "output_type": "execute_result"
    }
   ],
   "source": [
    "x= np.array([1.25,0,0.625])\n",
    "np.sqrt(np.sum(np.square(x)))"
   ]
  }
 ],
 "metadata": {
  "kernelspec": {
   "display_name": "Python 3.11.0 ('.venv': venv)",
   "language": "python",
   "name": "python3"
  },
  "language_info": {
   "codemirror_mode": {
    "name": "ipython",
    "version": 3
   },
   "file_extension": ".py",
   "mimetype": "text/x-python",
   "name": "python",
   "nbconvert_exporter": "python",
   "pygments_lexer": "ipython3",
   "version": "3.11.0"
  },
  "orig_nbformat": 4,
  "vscode": {
   "interpreter": {
    "hash": "a09e66632cf8da4a65d75145b8875386dd637e759f194f9c3fb8d8db0583736e"
   }
  }
 },
 "nbformat": 4,
 "nbformat_minor": 2
}
