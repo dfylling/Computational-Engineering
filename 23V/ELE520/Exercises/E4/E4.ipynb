{
 "cells": [
  {
   "cell_type": "code",
   "execution_count": 82,
   "metadata": {},
   "outputs": [],
   "source": [
    "import numpy as np"
   ]
  },
  {
   "cell_type": "code",
   "execution_count": 83,
   "metadata": {},
   "outputs": [
    {
     "data": {
      "text/plain": [
       "matrix([[1.  , 1.  , 0.25, 0.25]])"
      ]
     },
     "execution_count": 83,
     "metadata": {},
     "output_type": "execute_result"
    }
   ],
   "source": [
    "x = np.asmatrix([1,1,0.25,0.25])\n",
    "\n",
    "theta1 = np.asmatrix([[.5,0,-.5,.5],[-.5,.5,-.5,0],[.5,-.5,0,.5]])\n",
    "theta2 = np.asmatrix([[-.5,.5,-.5,.5],[.5,0,-.5,.5],[-.5,-.5,.5,0],[.5,.5,0,-.5]])\n",
    "\n",
    "x"
   ]
  },
  {
   "cell_type": "code",
   "execution_count": 84,
   "metadata": {},
   "outputs": [
    {
     "data": {
      "text/plain": [
       "matrix([[   inf],\n",
       "        [ 0.5  ],\n",
       "        [-0.125],\n",
       "        [ 0.125]])"
      ]
     },
     "execution_count": 84,
     "metadata": {},
     "output_type": "execute_result"
    }
   ],
   "source": [
    "z1 = theta1*x.T\n",
    "z1 = np.r_[[[np.inf]], z1]\n",
    "z1"
   ]
  },
  {
   "cell_type": "code",
   "execution_count": 85,
   "metadata": {},
   "outputs": [],
   "source": [
    "def f(z):\n",
    "    return 1/(1+np.exp(-z))"
   ]
  },
  {
   "cell_type": "code",
   "execution_count": 86,
   "metadata": {},
   "outputs": [
    {
     "data": {
      "text/plain": [
       "matrix([[1.        ],\n",
       "        [0.62245933],\n",
       "        [0.46879063],\n",
       "        [0.53120937]])"
      ]
     },
     "execution_count": 86,
     "metadata": {},
     "output_type": "execute_result"
    }
   ],
   "source": [
    "y1 = f(z1)\n",
    "y1"
   ]
  },
  {
   "cell_type": "code",
   "execution_count": 87,
   "metadata": {},
   "outputs": [
    {
     "data": {
      "text/plain": [
       "matrix([[-0.15756096],\n",
       "        [ 0.53120937],\n",
       "        [-0.57683435],\n",
       "        [ 0.54562498]])"
      ]
     },
     "execution_count": 87,
     "metadata": {},
     "output_type": "execute_result"
    }
   ],
   "source": [
    "z2 = theta2 * y1\n",
    "z2"
   ]
  },
  {
   "cell_type": "code",
   "execution_count": 88,
   "metadata": {},
   "outputs": [
    {
     "data": {
      "text/plain": [
       "matrix([[0.46069105],\n",
       "        [0.62976513],\n",
       "        [0.35966133],\n",
       "        [0.63311996]])"
      ]
     },
     "execution_count": 88,
     "metadata": {},
     "output_type": "execute_result"
    }
   ],
   "source": [
    "y2 = f(z2)\n",
    "y2"
   ]
  },
  {
   "cell_type": "code",
   "execution_count": 89,
   "metadata": {},
   "outputs": [
    {
     "data": {
      "text/plain": [
       "0.6088277137928078"
      ]
     },
     "execution_count": 89,
     "metadata": {},
     "output_type": "execute_result"
    }
   ],
   "source": [
    "y = np.asmatrix([1,0,0,0]).T\n",
    "\n",
    "J = 0.5* np.sum(np.square(y - y2))\n",
    "J"
   ]
  },
  {
   "cell_type": "code",
   "execution_count": 90,
   "metadata": {},
   "outputs": [],
   "source": [
    "def f_diff(z):\n",
    "    return np.exp(-z)/np.square((1+np.exp(-z)))"
   ]
  },
  {
   "cell_type": "code",
   "execution_count": 91,
   "metadata": {},
   "outputs": [
    {
     "data": {
      "text/plain": [
       "array([-0.15756096,  0.53120937, -0.57683435,  0.54562498])"
      ]
     },
     "execution_count": 91,
     "metadata": {},
     "output_type": "execute_result"
    }
   ],
   "source": [
    "np.asarray(z2).flatten()"
   ]
  },
  {
   "cell_type": "code",
   "execution_count": 92,
   "metadata": {},
   "outputs": [
    {
     "data": {
      "text/plain": [
       "array([[0.24845481, 0.        , 0.        , 0.        ],\n",
       "       [0.        , 0.23316101, 0.        , 0.        ],\n",
       "       [0.        , 0.        , 0.23030506, 0.        ],\n",
       "       [0.        , 0.        , 0.        , 0.23227908]])"
      ]
     },
     "execution_count": 92,
     "metadata": {},
     "output_type": "execute_result"
    }
   ],
   "source": [
    "diag2 = np.diag(f_diff(np.asarray(z2).flatten()))\n",
    "diag2"
   ]
  },
  {
   "cell_type": "code",
   "execution_count": 93,
   "metadata": {},
   "outputs": [
    {
     "data": {
      "text/plain": [
       "matrix([[ 0.1339939 ],\n",
       "        [-0.14683667],\n",
       "        [-0.08283182],\n",
       "        [-0.14706052]])"
      ]
     },
     "execution_count": 93,
     "metadata": {},
     "output_type": "execute_result"
    }
   ],
   "source": [
    "delta2 = diag2 * (y-y2)\n",
    "delta2"
   ]
  },
  {
   "cell_type": "code",
   "execution_count": 94,
   "metadata": {},
   "outputs": [
    {
     "data": {
      "text/plain": [
       "array([[0.        , 0.        , 0.        , 0.        ],\n",
       "       [0.        , 0.23500371, 0.        , 0.        ],\n",
       "       [0.        , 0.        , 0.24902598, 0.        ],\n",
       "       [0.        , 0.        , 0.        , 0.24902598]])"
      ]
     },
     "execution_count": 94,
     "metadata": {},
     "output_type": "execute_result"
    }
   ],
   "source": [
    "diag1 = np.diag(f_diff(np.asarray(z1).flatten()))\n",
    "diag1"
   ]
  },
  {
   "cell_type": "code",
   "execution_count": 105,
   "metadata": {},
   "outputs": [
    {
     "data": {
      "text/plain": [
       "matrix([[ 0.00819754],\n",
       "        [-0.00871455],\n",
       "        [ 0.01671185]])"
      ]
     },
     "execution_count": 105,
     "metadata": {},
     "output_type": "execute_result"
    }
   ],
   "source": [
    "delta1 = diag1 * theta2.T * delta2\n",
    "delta1 = delta1[1:]\n",
    "delta1"
   ]
  },
  {
   "cell_type": "code",
   "execution_count": 96,
   "metadata": {},
   "outputs": [],
   "source": [
    "mu = 1"
   ]
  },
  {
   "cell_type": "code",
   "execution_count": 106,
   "metadata": {},
   "outputs": [
    {
     "data": {
      "text/plain": [
       "matrix([[ 0.1339939 ,  0.08340575,  0.06281508,  0.07117882],\n",
       "        [-0.14683667, -0.09139986, -0.06883566, -0.07800102],\n",
       "        [-0.08283182, -0.05155944, -0.03883078, -0.04400104],\n",
       "        [-0.14706052, -0.09153919, -0.06894059, -0.07811993]])"
      ]
     },
     "execution_count": 106,
     "metadata": {},
     "output_type": "execute_result"
    }
   ],
   "source": [
    "d_theta2 = mu * delta2 * y1.T\n",
    "d_theta2"
   ]
  },
  {
   "cell_type": "code",
   "execution_count": 107,
   "metadata": {},
   "outputs": [
    {
     "data": {
      "text/plain": [
       "matrix([[ 0.00819754,  0.00819754,  0.00204939,  0.00204939],\n",
       "        [-0.00871455, -0.00871455, -0.00217864, -0.00217864],\n",
       "        [ 0.01671185,  0.01671185,  0.00417796,  0.00417796]])"
      ]
     },
     "execution_count": 107,
     "metadata": {},
     "output_type": "execute_result"
    }
   ],
   "source": [
    "d_theta1 = mu * delta1 * x\n",
    "d_theta1"
   ]
  },
  {
   "cell_type": "code",
   "execution_count": 109,
   "metadata": {},
   "outputs": [
    {
     "data": {
      "text/plain": [
       "matrix([[-0.3660061 ,  0.58340575, -0.43718492,  0.57117882],\n",
       "        [ 0.35316333, -0.09139986, -0.56883566,  0.42199898],\n",
       "        [-0.58283182, -0.55155944,  0.46116922, -0.04400104],\n",
       "        [ 0.35293948,  0.40846081, -0.06894059, -0.57811993]])"
      ]
     },
     "execution_count": 109,
     "metadata": {},
     "output_type": "execute_result"
    }
   ],
   "source": [
    "theta2_new = theta2 + d_theta2\n",
    "theta2_new"
   ]
  },
  {
   "cell_type": "code",
   "execution_count": 108,
   "metadata": {},
   "outputs": [
    {
     "data": {
      "text/plain": [
       "matrix([[ 0.50819754,  0.00819754, -0.49795061,  0.50204939],\n",
       "        [-0.50871455,  0.49128545, -0.50217864, -0.00217864],\n",
       "        [ 0.51671185, -0.48328815,  0.00417796,  0.50417796]])"
      ]
     },
     "execution_count": 108,
     "metadata": {},
     "output_type": "execute_result"
    }
   ],
   "source": [
    "theta1_new = theta1 + d_theta1\n",
    "theta1_new"
   ]
  }
 ],
 "metadata": {
  "kernelspec": {
   "display_name": "Python 3 (ipykernel)",
   "language": "python",
   "name": "python3"
  },
  "language_info": {
   "codemirror_mode": {
    "name": "ipython",
    "version": 3
   },
   "file_extension": ".py",
   "mimetype": "text/x-python",
   "name": "python",
   "nbconvert_exporter": "python",
   "pygments_lexer": "ipython3",
   "version": "3.11.0"
  },
  "vscode": {
   "interpreter": {
    "hash": "a09e66632cf8da4a65d75145b8875386dd637e759f194f9c3fb8d8db0583736e"
   }
  }
 },
 "nbformat": 4,
 "nbformat_minor": 4
}
