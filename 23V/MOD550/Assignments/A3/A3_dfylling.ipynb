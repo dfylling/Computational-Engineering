{
 "cells": [
  {
   "attachments": {},
   "cell_type": "markdown",
   "metadata": {},
   "source": [
    "# Assignment 3\n",
    "Daniel Fylling"
   ]
  },
  {
   "cell_type": "code",
   "execution_count": 540,
   "metadata": {},
   "outputs": [],
   "source": [
    "import numpy as np\n",
    "import matplotlib.pyplot as plt\n",
    "from scipy.optimize import curve_fit"
   ]
  },
  {
   "cell_type": "markdown",
   "metadata": {},
   "source": [
    "## Task 1\n",
    "### Estimate value and error variance\n",
    "### (a)"
   ]
  },
  {
   "cell_type": "code",
   "execution_count": 541,
   "metadata": {},
   "outputs": [],
   "source": [
    "x_u = np.array([[20, 20]]).T\n",
    "loc_data = np.array([[0, 80]]).T\n"
   ]
  },
  {
   "cell_type": "code",
   "execution_count": 542,
   "metadata": {},
   "outputs": [
    {
     "data": {
      "text/plain": [
       "array([[ 0, 80],\n",
       "       [80,  0]])"
      ]
     },
     "execution_count": 542,
     "metadata": {},
     "output_type": "execute_result"
    }
   ],
   "source": [
    "dist_DD = np.abs(loc_data - loc_data.T)\n",
    "dist_DD"
   ]
  },
  {
   "cell_type": "code",
   "execution_count": 543,
   "metadata": {},
   "outputs": [
    {
     "data": {
      "text/plain": [
       "array([[30],\n",
       "       [50]])"
      ]
     },
     "execution_count": 543,
     "metadata": {},
     "output_type": "execute_result"
    }
   ],
   "source": [
    "loc_unknown = 30\n",
    "dist_UD = np.abs(loc_unknown-loc_data)\n",
    "dist_UD"
   ]
  },
  {
   "cell_type": "code",
   "execution_count": 544,
   "metadata": {},
   "outputs": [],
   "source": [
    "mu = 18"
   ]
  },
  {
   "cell_type": "code",
   "execution_count": 545,
   "metadata": {},
   "outputs": [],
   "source": [
    "def exp_var(h, r, n, s):\n",
    "    gamma = n + s*(1-np.exp(-3*h/r))\n",
    "    return gamma"
   ]
  },
  {
   "cell_type": "code",
   "execution_count": 546,
   "metadata": {},
   "outputs": [],
   "source": [
    "r = 100\n",
    "n = 0\n",
    "s = 100"
   ]
  },
  {
   "cell_type": "code",
   "execution_count": 547,
   "metadata": {},
   "outputs": [
    {
     "data": {
      "text/plain": [
       "[<matplotlib.lines.Line2D at 0x20e88960b90>]"
      ]
     },
     "execution_count": 547,
     "metadata": {},
     "output_type": "execute_result"
    },
    {
     "data": {
      "image/png": "[encoded data removed]",
      "text/plain": [
       "<Figure size 640x480 with 1 Axes>"
      ]
     },
     "metadata": {},
     "output_type": "display_data"
    }
   ],
   "source": [
    "dist_plot = np.arange(0,200,0.1)\n",
    "var_plot = exp_var(dist_plot, r, n, s)\n",
    "\n",
    "plt.plot(dist_plot, var_plot)\n",
    "plt.plot(dist_plot, s - var_plot)"
   ]
  },
  {
   "cell_type": "markdown",
   "metadata": {},
   "source": [
    "Data covariance from variogram model,  $C_{DD}=sill-(\\gamma(h_{DD})-nugget)$"
   ]
  },
  {
   "cell_type": "code",
   "execution_count": 548,
   "metadata": {},
   "outputs": [
    {
     "data": {
      "text/plain": [
       "array([[100.        ,   9.07179533],\n",
       "       [  9.07179533, 100.        ]])"
      ]
     },
     "execution_count": 548,
     "metadata": {},
     "output_type": "execute_result"
    }
   ],
   "source": [
    "gamma_DD = exp_var(dist_DD, r, n, s)\n",
    "C_DD = s-(gamma_DD-n)\n",
    "C_DD"
   ]
  },
  {
   "cell_type": "markdown",
   "metadata": {},
   "source": [
    "Unknown-to-known data covariance from variogram model, $C_{UD} = sill-(\\gamma(h_{UD})-nugget)$"
   ]
  },
  {
   "cell_type": "code",
   "execution_count": 549,
   "metadata": {},
   "outputs": [
    {
     "data": {
      "text/plain": [
       "array([[40.65696597],\n",
       "       [22.31301601]])"
      ]
     },
     "execution_count": 549,
     "metadata": {},
     "output_type": "execute_result"
    }
   ],
   "source": [
    "gamma_UD = exp_var(dist_UD, r, n, s)\n",
    "C_UD = s-(gamma_UD-n)\n",
    "C_UD"
   ]
  },
  {
   "cell_type": "markdown",
   "metadata": {},
   "source": [
    "$\\mathbf{\\lambda} = \\mathbf{C}_{DD}^{-1} \\mathbf{C}_{UD}$"
   ]
  },
  {
   "cell_type": "code",
   "execution_count": 550,
   "metadata": {},
   "outputs": [
    {
     "data": {
      "text/plain": [
       "array([[0.38953351],\n",
       "       [0.18779248]])"
      ]
     },
     "execution_count": 550,
     "metadata": {},
     "output_type": "execute_result"
    }
   ],
   "source": [
    "lamb = np.dot(np.linalg.inv(C_DD), C_UD)\n",
    "lamb"
   ]
  },
  {
   "cell_type": "markdown",
   "metadata": {},
   "source": [
    "$X(u_o)_{SK} =\\lambda^{T}(\\mathbf{X(u)}-\\mu)+\\mu$\n",
    "\n"
   ]
  },
  {
   "cell_type": "code",
   "execution_count": 551,
   "metadata": {},
   "outputs": [
    {
     "data": {
      "text/plain": [
       "array([[19.15465198]])"
      ]
     },
     "execution_count": 551,
     "metadata": {},
     "output_type": "execute_result"
    }
   ],
   "source": [
    "est = np.dot(lamb.T, (x_u-mu)) + mu\n",
    "est"
   ]
  },
  {
   "cell_type": "markdown",
   "metadata": {},
   "source": [
    "$\\sigma_{SK}^2 =  sill-\\mathbf{\\lambda}^{T}\\mathbf{C}_{UD}$"
   ]
  },
  {
   "cell_type": "code",
   "execution_count": 552,
   "metadata": {},
   "outputs": [
    {
     "data": {
      "text/plain": [
       "array([[79.97253276]])"
      ]
     },
     "execution_count": 552,
     "metadata": {},
     "output_type": "execute_result"
    }
   ],
   "source": [
    "var = s-np.dot(lamb.T, C_UD)\n",
    "var"
   ]
  },
  {
   "cell_type": "markdown",
   "metadata": {},
   "source": [
    "### (b)"
   ]
  },
  {
   "cell_type": "code",
   "execution_count": 553,
   "metadata": {},
   "outputs": [
    {
     "name": "stdout",
     "output_type": "stream",
     "text": [
      "[[19.15465198]] [[159.94506552]]\n"
     ]
    }
   ],
   "source": [
    "s = 200\n",
    "\n",
    "gamma_DD = exp_var(dist_DD, r, n, s)\n",
    "C_DD = s-(gamma_DD-n)\n",
    "\n",
    "gamma_UD = exp_var(dist_UD, r, n, s)\n",
    "C_UD = s-(gamma_UD-n)\n",
    "\n",
    "lamb = np.dot(np.linalg.inv(C_DD), C_UD)\n",
    "\n",
    "est = np.dot(lamb.T, (x_u-mu)) + mu\n",
    "var = s-np.dot(lamb.T, C_UD)\n",
    "print(est, var)"
   ]
  },
  {
   "cell_type": "markdown",
   "metadata": {},
   "source": [
    "As we can see the estimate stays the same and the variance is scaled by the sill."
   ]
  },
  {
   "cell_type": "markdown",
   "metadata": {},
   "source": [
    "## Task 3\n",
    "### (a) Simple Kriging\n",
    "\n",
    "Note: Showing Task 3 before Task 2 because I solved them in this order, so Task 3 is showing some more formulas that are not shown in 2."
   ]
  },
  {
   "cell_type": "code",
   "execution_count": 554,
   "metadata": {},
   "outputs": [],
   "source": [
    "x_u = np.array([3, 4.5, 2]).T\n",
    "dist_DD = np.array([[0, 2.5, 1.9], [2.5, 0, 2.8], [1.9, 2.8, 0]])\n",
    "dist_UD = np.array([[1.2, 2, 0.9]]).T\n",
    "mu = np.mean(x_u)\n"
   ]
  },
  {
   "cell_type": "code",
   "execution_count": 555,
   "metadata": {},
   "outputs": [],
   "source": [
    "def sph_var(h, r, n, s):\n",
    "    gamma = n + s*(1.5*(h/r)-0.5*np.power((h/r),3))\n",
    "    gamma[h>r] = n + s\n",
    "    return gamma"
   ]
  },
  {
   "cell_type": "code",
   "execution_count": 556,
   "metadata": {},
   "outputs": [],
   "source": [
    "r = 10\n",
    "n = 1.2\n",
    "s = 6.8"
   ]
  },
  {
   "cell_type": "code",
   "execution_count": 557,
   "metadata": {},
   "outputs": [
    {
     "name": "stdout",
     "output_type": "stream",
     "text": [
      "[2.76370877] [[1.01191529]]\n"
     ]
    }
   ],
   "source": [
    "gamma_DD = sph_var(dist_DD, r, n, s)\n",
    "C_DD = s-(gamma_DD-n)\n",
    "\n",
    "gamma_UD = sph_var(dist_UD, r, n, s)\n",
    "C_UD = s-(gamma_UD-n)\n",
    "\n",
    "lamb = np.dot(np.linalg.inv(C_DD), C_UD)\n",
    "\n",
    "est = np.dot(lamb.T, (x_u-mu)) + mu\n",
    "var = s-np.dot(lamb.T, C_UD)\n",
    "print(est, var)"
   ]
  },
  {
   "cell_type": "markdown",
   "metadata": {},
   "source": [
    "### (b) Ordinary Kriging"
   ]
  },
  {
   "cell_type": "markdown",
   "metadata": {},
   "source": [
    "$C_{DD,OK} \\rightarrow\n",
    "\\begin{bmatrix}\n",
    "    C_{DD,SK} & \\mathbf{1} \\\\\n",
    "    \\mathbf{1} & 0 \n",
    "\\end{bmatrix}$"
   ]
  },
  {
   "cell_type": "code",
   "execution_count": 558,
   "metadata": {},
   "outputs": [
    {
     "data": {
      "text/plain": [
       "array([[6.8      , 4.303125 , 4.8853206, 1.       ],\n",
       "       [4.303125 , 6.8      , 4.0186368, 1.       ],\n",
       "       [4.8853206, 4.0186368, 6.8      , 1.       ],\n",
       "       [1.       , 1.       , 1.       , 0.       ]])"
      ]
     },
     "execution_count": 558,
     "metadata": {},
     "output_type": "execute_result"
    }
   ],
   "source": [
    "n_data = len(x_u)\n",
    "OK_column = np.array([np.ones(n_data)]).T\n",
    "C_DD_OK = np.c_[C_DD, OK_column]\n",
    "OK_row = np.array([np.append(np.ones(n_data),0)])\n",
    "C_DD_OK = np.r_[C_DD_OK, OK_row]\n",
    "C_DD_OK"
   ]
  },
  {
   "cell_type": "markdown",
   "metadata": {},
   "source": [
    "$\\mathbf{C}_{UD,OK} \\rightarrow \n",
    "\\begin{bmatrix}\n",
    "    \\mathbf{C}_{UD,SK} \\\\\n",
    "    1 \n",
    "\\end{bmatrix}$"
   ]
  },
  {
   "cell_type": "code",
   "execution_count": 559,
   "metadata": {},
   "outputs": [
    {
     "data": {
      "text/plain": [
       "array([[5.5818752],\n",
       "       [4.7872   ],\n",
       "       [5.8844786],\n",
       "       [1.       ]])"
      ]
     },
     "execution_count": 559,
     "metadata": {},
     "output_type": "execute_result"
    }
   ],
   "source": [
    "C_UD_OK = np.r_[C_UD,np.array([[1]])]\n",
    "C_UD_OK"
   ]
  },
  {
   "cell_type": "markdown",
   "metadata": {},
   "source": [
    "$\\mathbf{\\lambda}_{OK} = \\mathbf{C}_{DD,OK}^{-1} \\mathbf{C}_{UD,OK}$"
   ]
  },
  {
   "cell_type": "code",
   "execution_count": 560,
   "metadata": {},
   "outputs": [
    {
     "data": {
      "text/plain": [
       "array([[0.3196991 ],\n",
       "       [0.17635466],\n",
       "       [0.50394625],\n",
       "       [0.18710623]])"
      ]
     },
     "execution_count": 560,
     "metadata": {},
     "output_type": "execute_result"
    }
   ],
   "source": [
    "lamb_OK = np.dot(np.linalg.inv(C_DD_OK), C_UD_OK)\n",
    "lamb_OK"
   ]
  },
  {
   "cell_type": "code",
   "execution_count": 561,
   "metadata": {},
   "outputs": [],
   "source": [
    "mu_OK = lamb_OK[-1]"
   ]
  },
  {
   "cell_type": "markdown",
   "metadata": {},
   "source": [
    "$X(u_o)_{OK} =  \\lambda^{T}\\mathbf{X(u)}$"
   ]
  },
  {
   "cell_type": "code",
   "execution_count": 562,
   "metadata": {},
   "outputs": [
    {
     "data": {
      "text/plain": [
       "array([2.76058574])"
      ]
     },
     "execution_count": 562,
     "metadata": {},
     "output_type": "execute_result"
    }
   ],
   "source": [
    "est_OK = np.dot(lamb_OK[:-1].T, x_u)\n",
    "est_OK"
   ]
  },
  {
   "cell_type": "markdown",
   "metadata": {},
   "source": [
    "$\\sigma_{OK}^2 =  sill-\\mathbf{\\lambda}^{T}\\mathbf{C}_{UD,SK} - \\mu_{OK}$"
   ]
  },
  {
   "cell_type": "code",
   "execution_count": 563,
   "metadata": {},
   "outputs": [
    {
     "data": {
      "text/plain": [
       "array([[1.0186674]])"
      ]
     },
     "execution_count": 563,
     "metadata": {},
     "output_type": "execute_result"
    }
   ],
   "source": [
    "var_OK = s - np.dot(lamb_OK[:-1].T, C_UD) - mu_OK\n",
    "var_OK"
   ]
  },
  {
   "cell_type": "markdown",
   "metadata": {},
   "source": [
    "## Task 2\n",
    "### Ordinary Kriging Problem with Spatial Variations\n",
    "### (a) Estimate the value of a regionalized variable at point V"
   ]
  },
  {
   "cell_type": "code",
   "execution_count": 564,
   "metadata": {},
   "outputs": [],
   "source": [
    "x_u = np.array([20, 50, 30, 100]).T\n",
    "a = np.sqrt(2)*50\n",
    "b = 100\n",
    "dist_DD = np.array([[0, a, a, b], [a, 0, b, a], [a, b, 0, a], [b, a, a, 0]])\n",
    "dist_UD = np.array([[50, 50, 50, 50]]).T\n",
    "mu = np.mean(x_u)\n",
    "\n",
    "f = sph_var\n",
    "r = 200\n",
    "n = 0\n",
    "s = 1"
   ]
  },
  {
   "cell_type": "code",
   "execution_count": 565,
   "metadata": {},
   "outputs": [],
   "source": [
    "\n",
    "def Kriging(x_u, dist_DD, dist_UD, mu, f, r, n, s):  \n",
    "    gamma_DD = f(dist_DD, r, n, s)\n",
    "    C_DD = s-(gamma_DD-n)\n",
    "    gamma_UD = f(dist_UD, r, n, s)\n",
    "    C_UD = s-(gamma_UD-n)\n",
    "    lamb = np.dot(np.linalg.inv(C_DD), C_UD)\n",
    "    est = np.dot(lamb.T, (x_u-mu)) + mu\n",
    "    var = s-np.dot(lamb.T, C_UD)\n",
    "\n",
    "    n_data = len(x_u)\n",
    "    OK_column = np.array([np.ones(n_data)]).T\n",
    "    C_DD_OK = np.c_[C_DD, OK_column]\n",
    "    OK_row = np.array([np.append(np.ones(n_data),0)])\n",
    "    C_DD_OK = np.r_[C_DD_OK, OK_row]\n",
    "\n",
    "    C_UD_OK = np.r_[C_UD,np.array([[1]])]\n",
    "    lamb_OK = np.dot(np.linalg.inv(C_DD_OK), C_UD_OK)\n",
    "    mu_OK = lamb_OK[-1]\n",
    "    est_OK = np.dot(lamb_OK[:-1].T, x_u)\n",
    "    var_OK = s - np.dot(lamb_OK[:-1].T, C_UD) - mu_OK\n",
    "    return lamb_OK, est_OK, var_OK"
   ]
  },
  {
   "cell_type": "code",
   "execution_count": 566,
   "metadata": {},
   "outputs": [
    {
     "name": "stdout",
     "output_type": "stream",
     "text": [
      "Weights =[[0.25]\n",
      " [0.25]\n",
      " [0.25]\n",
      " [0.25]]\n",
      "Local mean = 50.0\n",
      "Estimate = [50.]\n",
      "Error variance = [[0.3083835]]\n"
     ]
    }
   ],
   "source": [
    "lamb_OK, est_OK, var_OK = Kriging(x_u, dist_DD, dist_UD, mu, f, r, n, s)\n",
    "print(f'Weights ={lamb_OK[:-1]}')\n",
    "print(f'Local mean = {mu}')\n",
    "print(f'Estimate = {est_OK}')\n",
    "print(f'Error variance = {var_OK}')"
   ]
  },
  {
   "cell_type": "markdown",
   "metadata": {},
   "source": [
    "### (b) add small nugget effect"
   ]
  },
  {
   "cell_type": "code",
   "execution_count": 567,
   "metadata": {},
   "outputs": [
    {
     "name": "stdout",
     "output_type": "stream",
     "text": [
      "Weights =[[0.25]\n",
      " [0.25]\n",
      " [0.25]\n",
      " [0.25]]\n",
      "Local mean = 50.0\n",
      "Estimate = [50.]\n",
      "Error variance = [[0.3083835]]\n"
     ]
    }
   ],
   "source": [
    "n = 0.25\n",
    "lamb_OK, est_OK, var_OK = Kriging(x_u, dist_DD, dist_UD, mu, f, r, n, s)\n",
    "print(f'Weights ={lamb_OK[:-1]}')\n",
    "print(f'Local mean = {mu}')\n",
    "print(f'Estimate = {est_OK}')\n",
    "print(f'Error variance = {var_OK}')"
   ]
  },
  {
   "cell_type": "markdown",
   "metadata": {},
   "source": [
    "### (c) Two wells close together"
   ]
  },
  {
   "cell_type": "code",
   "execution_count": 568,
   "metadata": {},
   "outputs": [],
   "source": [
    "a = np.sqrt(2)*50\n",
    "b = (25**2 + 100**2)**0.5\n",
    "c = (50**2 + 100**2)**0.5\n",
    "d = (25**2 + 50**2)**0.5\n",
    "dist_DD = np.array([[0, a, a, b], [a, 0, 10, c], [a, 10, 0, c], [b, c, c, 0]])\n",
    "dist_UD = np.array([[50, 50, 50, d]]).T\n",
    "\n",
    "n = 0"
   ]
  },
  {
   "cell_type": "code",
   "execution_count": 569,
   "metadata": {},
   "outputs": [
    {
     "name": "stdout",
     "output_type": "stream",
     "text": [
      "Weights =[[0.29292307]\n",
      " [0.17570215]\n",
      " [0.17570215]\n",
      " [0.35567262]]\n",
      "Local mean = 50.0\n",
      "Estimate = [55.48189562]\n",
      "Error variance = [[0.31979971]]\n"
     ]
    }
   ],
   "source": [
    "lamb_OK, est_OK, var_OK = Kriging(x_u, dist_DD, dist_UD, mu, f, r, n, s)\n",
    "print(f'Weights ={lamb_OK[:-1]}')\n",
    "print(f'Local mean = {mu}')\n",
    "print(f'Estimate = {est_OK}')\n",
    "print(f'Error variance = {var_OK}')"
   ]
  },
  {
   "cell_type": "markdown",
   "metadata": {},
   "source": [
    "### (d) Anisotropy\n",
    "\n",
    "Did not figure out how to do this"
   ]
  },
  {
   "cell_type": "markdown",
   "metadata": {},
   "source": [
    "### (e) Another configuration"
   ]
  },
  {
   "cell_type": "code",
   "execution_count": 570,
   "metadata": {},
   "outputs": [],
   "source": [
    "a = np.sqrt(2)*50\n",
    "d = (25**2 + 50**2)**0.5\n",
    "dist_DD = np.array([[0, a, 75, 100], [a, 0, d, a], [75, d, 0, 25], [100, a, 25, 0]])\n",
    "dist_UD = np.array([[50, 50, 25, 50]]).T"
   ]
  },
  {
   "cell_type": "code",
   "execution_count": 571,
   "metadata": {},
   "outputs": [
    {
     "name": "stdout",
     "output_type": "stream",
     "text": [
      "Weights =[[ 0.27809185]\n",
      " [ 0.13467022]\n",
      " [ 0.62901399]\n",
      " [-0.04177607]]\n",
      "Local mean = 50.0\n",
      "Estimate = [26.98816143]\n",
      "Error variance = [[0.24377693]]\n"
     ]
    }
   ],
   "source": [
    "lamb_OK, est_OK, var_OK = Kriging(x_u, dist_DD, dist_UD, mu, f, r, n, s)\n",
    "print(f'Weights ={lamb_OK[:-1]}')\n",
    "print(f'Local mean = {mu}')\n",
    "print(f'Estimate = {est_OK}')\n",
    "print(f'Error variance = {var_OK}')"
   ]
  },
  {
   "cell_type": "markdown",
   "metadata": {},
   "source": [
    "### (f) Comments\n",
    "- The small nugget effect that was added had no observable effect.\n",
    "- Not sure what was meant by 2 and 3 being redundant in (c). \n",
    "- In (c) we observe that 4 has a high weighting even though it is furthest away from estimation point, which leads to the estimate being higher than the mean.\n",
    "- In (e) we observe that 4 receives a (small, but) negative weighting, which is probably due to it being \"hidden\" behind 3.\n"
   ]
  },
  {
   "cell_type": "markdown",
   "metadata": {},
   "source": [
    "## Task 4\n",
    "### Variogram fitting"
   ]
  },
  {
   "cell_type": "code",
   "execution_count": 572,
   "metadata": {},
   "outputs": [],
   "source": [
    "x_u = np.array([11, 12, 15, 17, 16, 19, 17])\n",
    "loc_data = np.array([0, 10, 20, 30, 40, 50, 60])"
   ]
  },
  {
   "cell_type": "markdown",
   "metadata": {},
   "source": [
    "$C(h)= \\frac{1}{N_h} \\sum\\limits_{i=1}^{N_h}x_ix_{i+h} - \\bar{x_i}\\bar{x_{i+h}}$"
   ]
  },
  {
   "cell_type": "code",
   "execution_count": 573,
   "metadata": {},
   "outputs": [],
   "source": [
    "n_l = len(x_u)-1\n",
    "E_var = np.zeros(n_l)\n",
    "\n",
    "for l in range(1, n_l + 1):\n",
    "    Nh = len(x_u) - l\n",
    "    E_var[l-1] = (1/(2*Nh))*np.sum(np.power((x_u[l:] - x_u[:-l]), 2)) "
   ]
  },
  {
   "cell_type": "code",
   "execution_count": 574,
   "metadata": {},
   "outputs": [
    {
     "data": {
      "text/plain": [
       "[<matplotlib.lines.Line2D at 0x20e8896fe50>]"
      ]
     },
     "execution_count": 574,
     "metadata": {},
     "output_type": "execute_result"
    },
    {
     "data": {
      "image/png": "[encoded data removed]",
      "text/plain": [
       "<Figure size 640x480 with 1 Axes>"
      ]
     },
     "metadata": {},
     "output_type": "display_data"
    }
   ],
   "source": [
    "plt.plot(loc_data[1:], E_var)"
   ]
  },
  {
   "cell_type": "markdown",
   "metadata": {},
   "source": [
    "Values for p0 taken from visual inspection of above graph."
   ]
  },
  {
   "cell_type": "code",
   "execution_count": 575,
   "metadata": {},
   "outputs": [
    {
     "data": {
      "text/plain": [
       "array([77.61521397, -4.11293496, 26.05626909])"
      ]
     },
     "execution_count": 575,
     "metadata": {},
     "output_type": "execute_result"
    }
   ],
   "source": [
    "sph_params,_ = curve_fit(sph_var, loc_data[1:], E_var, p0=[50,0,20])\n",
    "sph_params"
   ]
  },
  {
   "cell_type": "code",
   "execution_count": 576,
   "metadata": {},
   "outputs": [
    {
     "data": {
      "text/plain": [
       "[<matplotlib.lines.Line2D at 0x20e88c410d0>]"
      ]
     },
     "execution_count": 576,
     "metadata": {},
     "output_type": "execute_result"
    },
    {
     "data": {
      "image/png": "[encoded data removed]",
      "text/plain": [
       "<Figure size 640x480 with 1 Axes>"
      ]
     },
     "metadata": {},
     "output_type": "display_data"
    }
   ],
   "source": [
    "r, n, s = sph_params\n",
    "Sph_var = sph_var(loc_data[1:], r, n, s)\n",
    "plt.plot(loc_data[1:], E_var)\n",
    "plt.plot(loc_data[1:], Sph_var)"
   ]
  },
  {
   "cell_type": "code",
   "execution_count": 577,
   "metadata": {},
   "outputs": [
    {
     "data": {
      "text/plain": [
       "array([385.86471408,  -3.59846874,  65.06361688])"
      ]
     },
     "execution_count": 577,
     "metadata": {},
     "output_type": "execute_result"
    }
   ],
   "source": [
    "exp_params,_ = curve_fit(exp_var, loc_data[1:], E_var, p0=[50,0,20])\n",
    "exp_params"
   ]
  },
  {
   "cell_type": "code",
   "execution_count": 578,
   "metadata": {},
   "outputs": [
    {
     "data": {
      "text/plain": [
       "[<matplotlib.lines.Line2D at 0x20e88cc9f90>]"
      ]
     },
     "execution_count": 578,
     "metadata": {},
     "output_type": "execute_result"
    },
    {
     "data": {
      "image/png": "[encoded data removed]",
      "text/plain": [
       "<Figure size 640x480 with 1 Axes>"
      ]
     },
     "metadata": {},
     "output_type": "display_data"
    }
   ],
   "source": [
    "r, n, s = exp_params\n",
    "Exp_var = exp_var(loc_data[1:], r, n, s)\n",
    "plt.plot(loc_data[1:], E_var)\n",
    "plt.plot(loc_data[1:], Exp_var)"
   ]
  },
  {
   "cell_type": "code",
   "execution_count": 579,
   "metadata": {},
   "outputs": [],
   "source": [
    "def gauss_var(h, r, n, s):\n",
    "    gamma = n + s*(1-np.exp(-3*np.power(h/r, 2)))\n",
    "    return gamma"
   ]
  },
  {
   "cell_type": "code",
   "execution_count": 580,
   "metadata": {},
   "outputs": [
    {
     "data": {
      "text/plain": [
       "[<matplotlib.lines.Line2D at 0x20e88d26890>]"
      ]
     },
     "execution_count": 580,
     "metadata": {},
     "output_type": "execute_result"
    },
    {
     "data": {
      "image/png": "[encoded data removed]",
      "text/plain": [
       "<Figure size 640x480 with 1 Axes>"
      ]
     },
     "metadata": {},
     "output_type": "display_data"
    }
   ],
   "source": [
    "gauss_params,_ = curve_fit(gauss_var, loc_data[1:], E_var, p0=[50,0,20])\n",
    "gauss_params\n",
    "r, n, s = gauss_params\n",
    "Gauss_var = gauss_var(loc_data[1:], r, n, s)\n",
    "plt.plot(loc_data[1:], E_var)\n",
    "plt.plot(loc_data[1:], Gauss_var)"
   ]
  },
  {
   "cell_type": "markdown",
   "metadata": {},
   "source": [
    "Finding solution for x = 15"
   ]
  },
  {
   "cell_type": "code",
   "execution_count": 581,
   "metadata": {},
   "outputs": [],
   "source": [
    "x_u = np.array([[11, 12, 15, 17, 16, 19, 17]]).T\n",
    "loc_data = np.array([[0, 10, 20, 30, 40, 50, 60]]).T"
   ]
  },
  {
   "cell_type": "code",
   "execution_count": 582,
   "metadata": {},
   "outputs": [
    {
     "data": {
      "text/plain": [
       "array([[ 0, 10, 20],\n",
       "       [10,  0, 10],\n",
       "       [20, 10,  0]])"
      ]
     },
     "execution_count": 582,
     "metadata": {},
     "output_type": "execute_result"
    }
   ],
   "source": [
    "dist_DD = np.abs(loc_data[:3] - loc_data[:3].T)\n",
    "dist_DD"
   ]
  },
  {
   "cell_type": "code",
   "execution_count": 583,
   "metadata": {},
   "outputs": [
    {
     "data": {
      "text/plain": [
       "array([[15],\n",
       "       [ 5],\n",
       "       [ 5]])"
      ]
     },
     "execution_count": 583,
     "metadata": {},
     "output_type": "execute_result"
    }
   ],
   "source": [
    "loc_unknown = 15\n",
    "dist_UD = np.abs(loc_unknown-loc_data[:3])\n",
    "dist_UD"
   ]
  },
  {
   "cell_type": "code",
   "execution_count": 584,
   "metadata": {},
   "outputs": [
    {
     "data": {
      "text/plain": [
       "15.285714285714286"
      ]
     },
     "execution_count": 584,
     "metadata": {},
     "output_type": "execute_result"
    }
   ],
   "source": [
    "# Still using mean for full data set\n",
    "mu = np.mean(x_u)\n",
    "mu"
   ]
  },
  {
   "cell_type": "code",
   "execution_count": 585,
   "metadata": {},
   "outputs": [],
   "source": [
    "r, n, s = exp_params"
   ]
  },
  {
   "cell_type": "code",
   "execution_count": 586,
   "metadata": {},
   "outputs": [
    {
     "name": "stdout",
     "output_type": "stream",
     "text": [
      "[[13.50134841]] [[2.52799208]]\n"
     ]
    }
   ],
   "source": [
    "gamma_DD = exp_var(dist_DD, r, n, s)\n",
    "C_DD = s-(gamma_DD-n)\n",
    "\n",
    "gamma_UD = exp_var(dist_UD, r, n, s)\n",
    "C_UD = s-(gamma_UD-n)\n",
    "\n",
    "lamb = np.dot(np.linalg.inv(C_DD), C_UD)\n",
    "\n",
    "est = np.dot(lamb.T, (x_u[:3]-mu)) + mu\n",
    "var = s-np.dot(lamb.T, C_UD)\n",
    "print(est, var)"
   ]
  },
  {
   "cell_type": "markdown",
   "metadata": {},
   "source": [
    "Finding solution for x = 25"
   ]
  },
  {
   "cell_type": "code",
   "execution_count": 587,
   "metadata": {},
   "outputs": [
    {
     "name": "stdout",
     "output_type": "stream",
     "text": [
      "[[15.99946064]] [[2.52799208]]\n"
     ]
    }
   ],
   "source": [
    "dist_DD = np.abs(loc_data[1:4] - loc_data[1:4].T)\n",
    "\n",
    "loc_unknown = 25\n",
    "dist_UD = np.abs(loc_unknown-loc_data[1:4])\n",
    "\n",
    "r, n, s = exp_params\n",
    "\n",
    "gamma_DD = exp_var(dist_DD, r, n, s)\n",
    "C_DD = s-(gamma_DD-n)\n",
    "\n",
    "gamma_UD = exp_var(dist_UD, r, n, s)\n",
    "C_UD = s-(gamma_UD-n)\n",
    "\n",
    "lamb = np.dot(np.linalg.inv(C_DD), C_UD)\n",
    "\n",
    "est = np.dot(lamb.T, (x_u[1:4]-mu)) + mu\n",
    "var = s-np.dot(lamb.T, C_UD)\n",
    "print(est, var)"
   ]
  }
 ],
 "metadata": {
  "kernelspec": {
   "display_name": "Python 3 (ipykernel)",
   "language": "python",
   "name": "python3"
  },
  "language_info": {
   "codemirror_mode": {
    "name": "ipython",
    "version": 3
   },
   "file_extension": ".py",
   "mimetype": "text/x-python",
   "name": "python",
   "nbconvert_exporter": "python",
   "pygments_lexer": "ipython3",
   "version": "3.11.0"
  }
 },
 "nbformat": 4,
 "nbformat_minor": 4
}
