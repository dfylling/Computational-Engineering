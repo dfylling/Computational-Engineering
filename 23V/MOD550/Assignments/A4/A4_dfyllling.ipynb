{
 "cells": [
  {
   "cell_type": "markdown",
   "metadata": {},
   "source": [
    "# Assignment 4\n",
    "Daniel Fylling"
   ]
  },
  {
   "cell_type": "code",
   "execution_count": 62,
   "metadata": {},
   "outputs": [],
   "source": [
    "import numpy as np\n",
    "import matplotlib.pyplot as plt\n",
    "import scipy.stats as ss\n",
    "import matplotlib.animation as animation\n",
    "import matplotlib\n",
    "%matplotlib inline\n",
    "import pandas as pd\n"
   ]
  },
  {
   "cell_type": "code",
   "execution_count": 63,
   "metadata": {},
   "outputs": [],
   "source": [
    "# Define number of grid cells\n",
    "nx = 50\n",
    "ny = 50\n",
    "\n",
    "# Create mesh grid for x and y\n",
    "x = np.arange(1,nx+1,1).reshape(-1,1)\n",
    "y = np.arange(1,ny+1,1).reshape(-1,1)\n",
    "x_grid, y_grid = np.meshgrid(x, y)\n",
    "\n",
    "# Flatten each mesh grid\n",
    "x_grid_flat = x_grid.reshape(1, nx*ny)\n",
    "y_grid_flat = y_grid.reshape(1, nx*ny)\n",
    "\n",
    "# Find distance from each grid point to every other grid point\n",
    "x_dist = x_grid_flat - x_grid_flat.T\n",
    "y_dist = y_grid_flat - y_grid_flat.T\n",
    "dist = np.sqrt(np.square(x_dist) + np.square(y_dist))\n",
    "#plt.pcolormesh(dist)\n"
   ]
  },
  {
   "cell_type": "code",
   "execution_count": 64,
   "metadata": {},
   "outputs": [],
   "source": [
    "# Define input data as per assignment\n",
    "mean_phi = 4\n",
    "ra = 1\n",
    "gamma = 1\n",
    "sigma = 1\n",
    "n_real = 1\n",
    "\n",
    "# Calculate covariance matrix from distance matrix\n",
    "Cov_phi = np.square(sigma)*np.exp(-3*np.power(dist/ra, gamma))\n",
    "#plt.pcolormesh(Cov_phi)"
   ]
  },
  {
   "cell_type": "code",
   "execution_count": 65,
   "metadata": {},
   "outputs": [],
   "source": [
    "# Find square root of covaraince matrix / standard deviation\n",
    "u, s, vh = np.linalg.svd(Cov_phi)\n",
    "s = np.diag(s)\n",
    "s_sqrt = np.sqrt(s)\n",
    "Cov_phi_sqrt = np.linalg.multi_dot((u, s_sqrt, vh))"
   ]
  },
  {
   "cell_type": "code",
   "execution_count": 66,
   "metadata": {},
   "outputs": [],
   "source": [
    "# Draw random numbers for each realization\n",
    "z = ss.norm.rvs(loc=0, scale=1, size=(nx*ny, n_real))"
   ]
  },
  {
   "cell_type": "code",
   "execution_count": 67,
   "metadata": {},
   "outputs": [],
   "source": [
    "# Calculate all realizations\n",
    "phi_real_all = mean_phi + np.dot(Cov_phi_sqrt, z)"
   ]
  },
  {
   "cell_type": "code",
   "execution_count": 68,
   "metadata": {},
   "outputs": [
    {
     "data": {
      "text/plain": [
       "<matplotlib.colorbar.Colorbar at 0x28e0b6cd6d0>"
      ]
     },
     "execution_count": 68,
     "metadata": {},
     "output_type": "execute_result"
    },
    {
     "data": {
      "image/png": "[encoded data removed]",
      "text/plain": [
       "<Figure size 640x480 with 2 Axes>"
      ]
     },
     "metadata": {},
     "output_type": "display_data"
    }
   ],
   "source": [
    "# Define function to fetch a given realization\n",
    "def phi_real_i(i):\n",
    "    return phi_real_all[:,i-1].reshape((nx, ny))\n",
    "\n",
    "plt.pcolormesh(phi_real_i(1), cmap='jet')\n",
    "plt.colorbar()"
   ]
  },
  {
   "cell_type": "code",
   "execution_count": 56,
   "metadata": {},
   "outputs": [],
   "source": [
    "# Switching matplotlib viewer to enable animations\n",
    "matplotlib.use('WebAgg')\n",
    "\n",
    "# Create the initial plot\n",
    "fig, ax = plt.subplots()\n",
    "im = ax.pcolormesh(x_grid, y_grid, phi_real_i(1), cmap='viridis')\n",
    "\n",
    "# Define the update function for the animation\n",
    "def animate(i):\n",
    "    im.set_array(phi_real_i(i).ravel())\n",
    "    ax.set_title(f\"Frame {i}\")\n",
    "    return im,\n",
    "\n",
    "# Create the animation\n",
    "anim = animation.FuncAnimation(fig, animate, frames = np.arange(1,n_real+1), interval=200)\n",
    "plt.show()"
   ]
  },
  {
   "cell_type": "markdown",
   "metadata": {},
   "source": [
    "### Task 2"
   ]
  },
  {
   "cell_type": "code",
   "execution_count": 37,
   "metadata": {},
   "outputs": [
    {
     "data": {
      "text/html": [
       "<div>\n",
       "<style scoped>\n",
       "    .dataframe tbody tr th:only-of-type {\n",
       "        vertical-align: middle;\n",
       "    }\n",
       "\n",
       "    .dataframe tbody tr th {\n",
       "        vertical-align: top;\n",
       "    }\n",
       "\n",
       "    .dataframe thead th {\n",
       "        text-align: right;\n",
       "    }\n",
       "</style>\n",
       "<table border=\"1\" class=\"dataframe\">\n",
       "  <thead>\n",
       "    <tr style=\"text-align: right;\">\n",
       "      <th></th>\n",
       "      <th>Date</th>\n",
       "      <th>Relative Time (days)</th>\n",
       "      <th>Relative Time (years)</th>\n",
       "      <th>Price ($)</th>\n",
       "    </tr>\n",
       "  </thead>\n",
       "  <tbody>\n",
       "    <tr>\n",
       "      <th>0</th>\n",
       "      <td>2019-10-28</td>\n",
       "      <td>0</td>\n",
       "      <td>0.000000</td>\n",
       "      <td>62.661999</td>\n",
       "    </tr>\n",
       "    <tr>\n",
       "      <th>1</th>\n",
       "      <td>2019-11-04</td>\n",
       "      <td>7</td>\n",
       "      <td>0.019178</td>\n",
       "      <td>67.428001</td>\n",
       "    </tr>\n",
       "    <tr>\n",
       "      <th>2</th>\n",
       "      <td>2019-11-11</td>\n",
       "      <td>14</td>\n",
       "      <td>0.038356</td>\n",
       "      <td>70.433998</td>\n",
       "    </tr>\n",
       "    <tr>\n",
       "      <th>3</th>\n",
       "      <td>2019-11-18</td>\n",
       "      <td>21</td>\n",
       "      <td>0.057534</td>\n",
       "      <td>66.608002</td>\n",
       "    </tr>\n",
       "    <tr>\n",
       "      <th>4</th>\n",
       "      <td>2019-11-25</td>\n",
       "      <td>28</td>\n",
       "      <td>0.076712</td>\n",
       "      <td>65.987999</td>\n",
       "    </tr>\n",
       "    <tr>\n",
       "      <th>...</th>\n",
       "      <td>...</td>\n",
       "      <td>...</td>\n",
       "      <td>...</td>\n",
       "      <td>...</td>\n",
       "    </tr>\n",
       "    <tr>\n",
       "      <th>100</th>\n",
       "      <td>2021-09-27</td>\n",
       "      <td>700</td>\n",
       "      <td>1.917808</td>\n",
       "      <td>775.219971</td>\n",
       "    </tr>\n",
       "    <tr>\n",
       "      <th>101</th>\n",
       "      <td>2021-10-04</td>\n",
       "      <td>707</td>\n",
       "      <td>1.936986</td>\n",
       "      <td>785.489990</td>\n",
       "    </tr>\n",
       "    <tr>\n",
       "      <th>102</th>\n",
       "      <td>2021-10-11</td>\n",
       "      <td>714</td>\n",
       "      <td>1.956164</td>\n",
       "      <td>843.030029</td>\n",
       "    </tr>\n",
       "    <tr>\n",
       "      <th>103</th>\n",
       "      <td>2021-10-18</td>\n",
       "      <td>721</td>\n",
       "      <td>1.975342</td>\n",
       "      <td>909.679993</td>\n",
       "    </tr>\n",
       "    <tr>\n",
       "      <th>104</th>\n",
       "      <td>2021-10-25</td>\n",
       "      <td>728</td>\n",
       "      <td>1.994521</td>\n",
       "      <td>1037.859985</td>\n",
       "    </tr>\n",
       "  </tbody>\n",
       "</table>\n",
       "<p>105 rows × 4 columns</p>\n",
       "</div>"
      ],
      "text/plain": [
       "          Date  Relative Time (days)  Relative Time (years)    Price ($)\n",
       "0   2019-10-28                     0               0.000000    62.661999\n",
       "1   2019-11-04                     7               0.019178    67.428001\n",
       "2   2019-11-11                    14               0.038356    70.433998\n",
       "3   2019-11-18                    21               0.057534    66.608002\n",
       "4   2019-11-25                    28               0.076712    65.987999\n",
       "..         ...                   ...                    ...          ...\n",
       "100 2021-09-27                   700               1.917808   775.219971\n",
       "101 2021-10-04                   707               1.936986   785.489990\n",
       "102 2021-10-11                   714               1.956164   843.030029\n",
       "103 2021-10-18                   721               1.975342   909.679993\n",
       "104 2021-10-25                   728               1.994521  1037.859985\n",
       "\n",
       "[105 rows x 4 columns]"
      ]
     },
     "execution_count": 37,
     "metadata": {},
     "output_type": "execute_result"
    }
   ],
   "source": [
    "%matplotlib inline\n",
    "df_data = pd.read_excel (r'stock_price_data.xlsx')\n",
    "df_data"
   ]
  },
  {
   "cell_type": "code",
   "execution_count": 38,
   "metadata": {},
   "outputs": [
    {
     "data": {
      "text/plain": [
       "[<matplotlib.lines.Line2D at 0x11133bde350>]"
      ]
     },
     "execution_count": 38,
     "metadata": {},
     "output_type": "execute_result"
    },
    {
     "data": {
      "image/png": "[encoded data removed]",
      "text/plain": [
       "<Figure size 640x480 with 1 Axes>"
      ]
     },
     "metadata": {},
     "output_type": "display_data"
    }
   ],
   "source": [
    "# Visalize data\n",
    "plt.plot(df_data['Relative Time (years)'].values, df_data['Price ($)'].values)\n"
   ]
  },
  {
   "cell_type": "code",
   "execution_count": 39,
   "metadata": {},
   "outputs": [],
   "source": [
    "dt = 7/365 # years"
   ]
  },
  {
   "cell_type": "markdown",
   "metadata": {},
   "source": [
    "### a) GBM Calibration"
   ]
  },
  {
   "cell_type": "markdown",
   "metadata": {},
   "source": [
    "#### Calculate $x_t=ln(S_{t+dt}/S_t)$"
   ]
  },
  {
   "cell_type": "code",
   "execution_count": null,
   "metadata": {
    "tags": []
   },
   "outputs": [],
   "source": [
    "# Calculate x_t according to formula\n",
    "S_next = df_data['Price ($)'].values[1:]\n",
    "S_pre = df_data['Price ($)'].values[0:-1]\n",
    "x_t = np.log(S_next/S_pre)"
   ]
  },
  {
   "cell_type": "code",
   "execution_count": 41,
   "metadata": {},
   "outputs": [
    {
     "name": "stdout",
     "output_type": "stream",
     "text": [
      "0.026991932481463796 0.09876476949744876\n"
     ]
    }
   ],
   "source": [
    "# Calculate mean and standard devaition of x_t\n",
    "x_mean = np.mean(x_t)\n",
    "x_sd = np.std(x_t)\n",
    "\n",
    "print(x_mean, x_sd)"
   ]
  },
  {
   "cell_type": "code",
   "execution_count": 42,
   "metadata": {},
   "outputs": [
    {
     "name": "stdout",
     "output_type": "stream",
     "text": [
      "1.661749699981164 0.7131805109375213\n"
     ]
    }
   ],
   "source": [
    "# Calculate GBM parameters mu and sigma\n",
    "mu_gbm = (2*x_mean+x_sd**2)/(2*dt)\n",
    "sigma_gbm = x_sd/np.sqrt(dt)\n",
    "\n",
    "print(mu_gbm, sigma_gbm)"
   ]
  },
  {
   "cell_type": "code",
   "execution_count": 43,
   "metadata": {},
   "outputs": [
    {
     "data": {
      "text/plain": [
       "array([1037.859985  , 1071.46841568, 1106.16516909, 1141.98548777])"
      ]
     },
     "execution_count": 43,
     "metadata": {},
     "output_type": "execute_result"
    }
   ],
   "source": [
    "# Set S_0 to last value in time series\n",
    "S_0 = df_data['Price ($)'].values[-1]\n",
    "\n",
    "# Establish relative times for forecasting 3 weeks ahead\n",
    "t_forecast = 7*np.arange(4)/365 # \n",
    "\n",
    "# Generate forecast\n",
    "S_forecast = S_0*np.exp(mu_gbm*t_forecast)\n",
    "S_forecast"
   ]
  },
  {
   "cell_type": "code",
   "execution_count": null,
   "metadata": {},
   "outputs": [],
   "source": [
    "# Calculate P05 and P95 outcomes\n",
    "lnS_t_mean_gbm = np.log(S_0)+(mu_gbm-sigma_gbm**2/2)*t_forecast\n",
    "lnS_t_var_gbm = sigma_gbm**2*t_forecast\n",
    "lnS_t_P05_gbm = ss.norm.ppf(q=0.05, loc=lnS_t_mean_gbm, scale=np.sqrt(lnS_t_var_gbm))\n",
    "lnS_t_P05_gbm[0] = np.log(S_0)\n",
    "lnS_t_P95_gbm = ss.norm.ppf(q=0.95, loc=lnS_t_mean_gbm, scale=np.sqrt(lnS_t_var_gbm))\n",
    "lnS_t_P95_gbm[0] = np.log(S_0)\n",
    "S_t_P05_gbm = np.exp(lnS_t_P05_gbm)\n",
    "S_t_P95_gbm = np.exp(lnS_t_P95_gbm)"
   ]
  },
  {
   "cell_type": "code",
   "execution_count": 45,
   "metadata": {},
   "outputs": [
    {
     "data": {
      "text/plain": [
       "[<matplotlib.lines.Line2D at 0x11133c8fe50>]"
      ]
     },
     "execution_count": 45,
     "metadata": {},
     "output_type": "execute_result"
    },
    {
     "data": {
      "image/png": "[encoded data removed]",
      "text/plain": [
       "<Figure size 640x480 with 1 Axes>"
      ]
     },
     "metadata": {},
     "output_type": "display_data"
    }
   ],
   "source": [
    "# Visalize forecast\n",
    "plt.plot(df_data['Relative Time (years)'].values, df_data['Price ($)'].values)\n",
    "plt.plot(t_forecast + df_data['Relative Time (days)'].values[-1]/365, S_forecast)\n",
    "plt.plot(t_forecast + df_data['Relative Time (days)'].values[-1]/365, S_t_P05_gbm)\n",
    "plt.plot(t_forecast + df_data['Relative Time (days)'].values[-1]/365, S_t_P95_gbm)"
   ]
  },
  {
   "cell_type": "code",
   "execution_count": 46,
   "metadata": {},
   "outputs": [
    {
     "name": "stdout",
     "output_type": "stream",
     "text": [
      "P05-P95 interval after 3 weeks is 849.4 to 1491.1\n"
     ]
    }
   ],
   "source": [
    "print(f'P05-P95 interval after 3 weeks is {S_t_P05_gbm[-1]:.1f} to {S_t_P95_gbm[-1]:.1f}')"
   ]
  },
  {
   "cell_type": "markdown",
   "metadata": {},
   "source": [
    "### b) GOU Calibration"
   ]
  },
  {
   "cell_type": "markdown",
   "metadata": {},
   "source": [
    "#### Calculate $\\pi_t=ln(S_t)$"
   ]
  },
  {
   "cell_type": "code",
   "execution_count": 47,
   "metadata": {},
   "outputs": [],
   "source": [
    "pi_t = np.log(df_data['Price ($)'].values)"
   ]
  },
  {
   "cell_type": "markdown",
   "metadata": {},
   "source": [
    "#### Let $x_t=\\pi_t$ and $y_t=\\pi_{t+dt}$"
   ]
  },
  {
   "cell_type": "code",
   "execution_count": 48,
   "metadata": {},
   "outputs": [],
   "source": [
    "x_t = pi_t[:-1]\n",
    "y_t = pi_t[1:]\n"
   ]
  },
  {
   "cell_type": "code",
   "execution_count": 49,
   "metadata": {},
   "outputs": [
    {
     "name": "stdout",
     "output_type": "stream",
     "text": [
      "0.9817982221362007 0.13284985994263465\n"
     ]
    }
   ],
   "source": [
    "regression = ss.linregress(x = x_t, y = y_t)\n",
    "a = regression.slope\n",
    "b = regression.intercept\n",
    "print(a,b)"
   ]
  },
  {
   "cell_type": "markdown",
   "metadata": {},
   "source": [
    "#### Calculate regression residuals and the SD of the residuals "
   ]
  },
  {
   "cell_type": "code",
   "execution_count": 50,
   "metadata": {},
   "outputs": [
    {
     "data": {
      "text/plain": [
       "0.09806476191560043"
      ]
     },
     "execution_count": 50,
     "metadata": {},
     "output_type": "execute_result"
    }
   ],
   "source": [
    "y_reg = a*x_t + b\n",
    "residuals = y_t - y_reg\n",
    "residuals_sd = np.std(residuals, ddof=1)\n",
    "residuals_sd"
   ]
  },
  {
   "cell_type": "markdown",
   "metadata": {},
   "source": [
    "#### Calculate GOU parameters: $\\mu$, $\\theta$, and $\\sigma$"
   ]
  },
  {
   "cell_type": "code",
   "execution_count": 51,
   "metadata": {},
   "outputs": [
    {
     "name": "stdout",
     "output_type": "stream",
     "text": [
      "7.29872987884628 0.9578365551292606 0.7146395667743817\n"
     ]
    }
   ],
   "source": [
    "mu_gou = b/(1-a)\n",
    "theta_gou = -np.log(a)/dt\n",
    "sigma_gou = residuals_sd*np.sqrt(-2*np.log(a)/(dt*(1-a**2)))\n",
    "print(mu_gou, theta_gou, sigma_gou)"
   ]
  },
  {
   "cell_type": "markdown",
   "metadata": {},
   "source": [
    "### GOU Forecasting "
   ]
  },
  {
   "cell_type": "code",
   "execution_count": 52,
   "metadata": {},
   "outputs": [
    {
     "data": {
      "text/plain": [
       "array([1037.859985  , 1049.60014129, 1061.16460936, 1072.55369358])"
      ]
     },
     "execution_count": 52,
     "metadata": {},
     "output_type": "execute_result"
    }
   ],
   "source": [
    "# Calculate forecasted mean\n",
    "\n",
    "S_0 = df_data['Price ($)'].values[-1]\n",
    "lnS_0 = np.log(S_0)\n",
    "\n",
    "lnS_t_mean_gou = lnS_0*np.exp(-theta_gou*t_forecast)+mu_gou*(1-np.exp(-theta_gou*t_forecast))\n",
    "lnS_t_var_gou = sigma_gou**2/(2*theta_gou)*(1-np.exp(-2*theta_gou*t_forecast))\n",
    "S_t_mean_gou = np.exp(lnS_t_mean_gou+lnS_t_var_gou/2)\n",
    "S_t_mean_gou"
   ]
  },
  {
   "cell_type": "code",
   "execution_count": 53,
   "metadata": {},
   "outputs": [],
   "source": [
    "# Calculate forecasted P05 and P95\n",
    "\n",
    "lnS_t_P05_gou = ss.norm.ppf(q=0.05, loc = lnS_t_mean_gou, scale = np.sqrt(lnS_t_var_gou))\n",
    "lnS_t_P05_gou[0] = np.log(S_0)\n",
    "\n",
    "lnS_t_P95_gou = ss.norm.ppf(q=0.95, loc = lnS_t_mean_gou, scale = np.sqrt(lnS_t_var_gou))\n",
    "lnS_t_P95_gou[0] = np.log(S_0)\n",
    "\n",
    "S_t_P05_gou = np.exp(lnS_t_P05_gou)\n",
    "S_t_P95_gou = np.exp(lnS_t_P95_gou)"
   ]
  },
  {
   "cell_type": "code",
   "execution_count": 54,
   "metadata": {},
   "outputs": [
    {
     "data": {
      "text/plain": [
       "[<matplotlib.lines.Line2D at 0x11133e589d0>]"
      ]
     },
     "execution_count": 54,
     "metadata": {},
     "output_type": "execute_result"
    },
    {
     "data": {
      "image/png": "[encoded data removed]",
      "text/plain": [
       "<Figure size 640x480 with 1 Axes>"
      ]
     },
     "metadata": {},
     "output_type": "display_data"
    }
   ],
   "source": [
    "# Visalize GOU forecast\n",
    "plt.plot(df_data['Relative Time (years)'].values, df_data['Price ($)'].values)\n",
    "plt.plot(t_forecast + df_data['Relative Time (days)'].values[-1]/365, S_t_mean_gou)\n",
    "plt.plot(t_forecast + df_data['Relative Time (days)'].values[-1]/365, S_t_P05_gou)\n",
    "plt.plot(t_forecast + df_data['Relative Time (days)'].values[-1]/365, S_t_P95_gou)"
   ]
  },
  {
   "cell_type": "code",
   "execution_count": 55,
   "metadata": {},
   "outputs": [
    {
     "name": "stdout",
     "output_type": "stream",
     "text": [
      "P05-P95 interval after 3 weeks is 803.9 to 1391.7\n"
     ]
    }
   ],
   "source": [
    "print(f'P05-P95 interval after 3 weeks is {S_t_P05_gou[-1]:.1f} to {S_t_P95_gou[-1]:.1f}')"
   ]
  },
  {
   "cell_type": "markdown",
   "metadata": {},
   "source": [
    "### c) GBM vs GOU\n",
    "\n",
    "We can see that the forecasts from the two different models are quite similar in this case and it would be tough to say which one predicts the uncertainty of the future stock price better. \n",
    "\n",
    "In general I would not recommend using any of these models for predicting future stock prices. Stocks are influenced by other factors than its own history, such as human psychology. Mathematical models do not include such complex influences, which are critical to modern macroeconomic movements."
   ]
  }
 ],
 "metadata": {
  "kernelspec": {
   "display_name": "Python 3 (ipykernel)",
   "language": "python",
   "name": "python3"
  },
  "language_info": {
   "codemirror_mode": {
    "name": "ipython",
    "version": 3
   },
   "file_extension": ".py",
   "mimetype": "text/x-python",
   "name": "python",
   "nbconvert_exporter": "python",
   "pygments_lexer": "ipython3",
   "version": "3.11.0"
  }
 },
 "nbformat": 4,
 "nbformat_minor": 4
}
